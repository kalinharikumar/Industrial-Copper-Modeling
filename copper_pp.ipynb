{
  "nbformat": 4,
  "nbformat_minor": 0,
  "metadata": {
    "colab": {
      "provenance": [],
      "gpuType": "T4",
      "mount_file_id": "12YqDoOcHmWrkcsm8sG3IWNy8HYtZg0Da",
      "authorship_tag": "ABX9TyPkx9CsxCKp/awyD7q/qVBD",
      "include_colab_link": true
    },
    "kernelspec": {
      "name": "python3",
      "display_name": "Python 3"
    },
    "language_info": {
      "name": "python"
    },
    "gpuClass": "standard",
    "accelerator": "TPU"
  },
  "cells": [
    {
      "cell_type": "markdown",
      "metadata": {
        "id": "view-in-github",
        "colab_type": "text"
      },
      "source": [
        "<a href=\"https://colab.research.google.com/github/kalinharikumar/Industrial-Copper-Modeling/blob/main/copper_pp.ipynb\" target=\"_parent\"><img src=\"https://colab.research.google.com/assets/colab-badge.svg\" alt=\"Open In Colab\"/></a>"
      ]
    },
    {
      "cell_type": "markdown",
      "source": [
        "# **Industrial Copper Modeling**"
      ],
      "metadata": {
        "id": "320-ZQfSOSXU"
      }
    },
    {
      "cell_type": "markdown",
      "source": [
        "## Python scripting, Data Preprocessing,\n",
        "## EDA, Streamlit"
      ],
      "metadata": {
        "id": "2euRoVG7OV9A"
      }
    },
    {
      "cell_type": "code",
      "source": [
        "import pandas as pd\n",
        "import numpy as np\n",
        "import matplotlib.pyplot as plt\n",
        "import seaborn as sns\n",
        "import sklearn\n",
        "\n",
        "import pickle"
      ],
      "metadata": {
        "id": "9Vqbsq2vpFI2"
      },
      "execution_count": 1,
      "outputs": []
    },
    {
      "cell_type": "code",
      "source": [
        "data=pd.read_excel('/content/drive/MyDrive/daily_offers.xlsx')\n",
        "df=data.copy()\n",
        "df.head()"
      ],
      "metadata": {
        "id": "13OmqI5YpYNa",
        "colab": {
          "base_uri": "https://localhost:8080/",
          "height": 0
        },
        "outputId": "824527dd-ea76-407a-a6d1-3588382dc290"
      },
      "execution_count": 2,
      "outputs": [
        {
          "output_type": "execute_result",
          "data": {
            "text/plain": [
              "                                     id   item_date quantity tons    customer  \\\n",
              "0  EC06F063-9DF0-440C-8764-0B0C05A4F6AE  20210401.0     54.151139  30156308.0   \n",
              "1  4E5F4B3D-DDDF-499D-AFDE-A3227EC49425  20210401.0    768.024839  30202938.0   \n",
              "2  E140FF1B-2407-4C02-A0DD-780A093B1158  20210401.0    386.127949  30153963.0   \n",
              "3  F8D507A0-9C62-4EFE-831E-33E1DA53BB50  20210401.0    202.411065  30349574.0   \n",
              "4  4E1C4E78-152B-430A-8094-ADD889C9D0AD  20210401.0    785.526262  30211560.0   \n",
              "\n",
              "   country status item type  application  thickness   width  \\\n",
              "0     28.0    Won         W         10.0       2.00  1500.0   \n",
              "1     25.0    Won         W         41.0       0.80  1210.0   \n",
              "2     30.0    Won        WI         28.0       0.38   952.0   \n",
              "3     32.0    Won         S         59.0       2.30  1317.0   \n",
              "4     28.0    Won         W         10.0       4.00  2000.0   \n",
              "\n",
              "                               material_ref  product_ref  delivery date  \\\n",
              "0                               DEQ1 S460MC   1670798778     20210701.0   \n",
              "1  0000000000000000000000000000000000104991   1668701718     20210401.0   \n",
              "2                                  S0380700       628377     20210101.0   \n",
              "3                   DX51D+ZM310MAO 2.3X1317   1668701718     20210101.0   \n",
              "4                           2_S275JR+AR-CL1       640665     20210301.0   \n",
              "\n",
              "   selling_price  \n",
              "0         854.00  \n",
              "1        1047.00  \n",
              "2         644.33  \n",
              "3         768.00  \n",
              "4         577.00  "
            ],
            "text/html": [
              "\n",
              "  <div id=\"df-2934523a-18ef-4f0f-8510-516b8d95c3ea\">\n",
              "    <div class=\"colab-df-container\">\n",
              "      <div>\n",
              "<style scoped>\n",
              "    .dataframe tbody tr th:only-of-type {\n",
              "        vertical-align: middle;\n",
              "    }\n",
              "\n",
              "    .dataframe tbody tr th {\n",
              "        vertical-align: top;\n",
              "    }\n",
              "\n",
              "    .dataframe thead th {\n",
              "        text-align: right;\n",
              "    }\n",
              "</style>\n",
              "<table border=\"1\" class=\"dataframe\">\n",
              "  <thead>\n",
              "    <tr style=\"text-align: right;\">\n",
              "      <th></th>\n",
              "      <th>id</th>\n",
              "      <th>item_date</th>\n",
              "      <th>quantity tons</th>\n",
              "      <th>customer</th>\n",
              "      <th>country</th>\n",
              "      <th>status</th>\n",
              "      <th>item type</th>\n",
              "      <th>application</th>\n",
              "      <th>thickness</th>\n",
              "      <th>width</th>\n",
              "      <th>material_ref</th>\n",
              "      <th>product_ref</th>\n",
              "      <th>delivery date</th>\n",
              "      <th>selling_price</th>\n",
              "    </tr>\n",
              "  </thead>\n",
              "  <tbody>\n",
              "    <tr>\n",
              "      <th>0</th>\n",
              "      <td>EC06F063-9DF0-440C-8764-0B0C05A4F6AE</td>\n",
              "      <td>20210401.0</td>\n",
              "      <td>54.151139</td>\n",
              "      <td>30156308.0</td>\n",
              "      <td>28.0</td>\n",
              "      <td>Won</td>\n",
              "      <td>W</td>\n",
              "      <td>10.0</td>\n",
              "      <td>2.00</td>\n",
              "      <td>1500.0</td>\n",
              "      <td>DEQ1 S460MC</td>\n",
              "      <td>1670798778</td>\n",
              "      <td>20210701.0</td>\n",
              "      <td>854.00</td>\n",
              "    </tr>\n",
              "    <tr>\n",
              "      <th>1</th>\n",
              "      <td>4E5F4B3D-DDDF-499D-AFDE-A3227EC49425</td>\n",
              "      <td>20210401.0</td>\n",
              "      <td>768.024839</td>\n",
              "      <td>30202938.0</td>\n",
              "      <td>25.0</td>\n",
              "      <td>Won</td>\n",
              "      <td>W</td>\n",
              "      <td>41.0</td>\n",
              "      <td>0.80</td>\n",
              "      <td>1210.0</td>\n",
              "      <td>0000000000000000000000000000000000104991</td>\n",
              "      <td>1668701718</td>\n",
              "      <td>20210401.0</td>\n",
              "      <td>1047.00</td>\n",
              "    </tr>\n",
              "    <tr>\n",
              "      <th>2</th>\n",
              "      <td>E140FF1B-2407-4C02-A0DD-780A093B1158</td>\n",
              "      <td>20210401.0</td>\n",
              "      <td>386.127949</td>\n",
              "      <td>30153963.0</td>\n",
              "      <td>30.0</td>\n",
              "      <td>Won</td>\n",
              "      <td>WI</td>\n",
              "      <td>28.0</td>\n",
              "      <td>0.38</td>\n",
              "      <td>952.0</td>\n",
              "      <td>S0380700</td>\n",
              "      <td>628377</td>\n",
              "      <td>20210101.0</td>\n",
              "      <td>644.33</td>\n",
              "    </tr>\n",
              "    <tr>\n",
              "      <th>3</th>\n",
              "      <td>F8D507A0-9C62-4EFE-831E-33E1DA53BB50</td>\n",
              "      <td>20210401.0</td>\n",
              "      <td>202.411065</td>\n",
              "      <td>30349574.0</td>\n",
              "      <td>32.0</td>\n",
              "      <td>Won</td>\n",
              "      <td>S</td>\n",
              "      <td>59.0</td>\n",
              "      <td>2.30</td>\n",
              "      <td>1317.0</td>\n",
              "      <td>DX51D+ZM310MAO 2.3X1317</td>\n",
              "      <td>1668701718</td>\n",
              "      <td>20210101.0</td>\n",
              "      <td>768.00</td>\n",
              "    </tr>\n",
              "    <tr>\n",
              "      <th>4</th>\n",
              "      <td>4E1C4E78-152B-430A-8094-ADD889C9D0AD</td>\n",
              "      <td>20210401.0</td>\n",
              "      <td>785.526262</td>\n",
              "      <td>30211560.0</td>\n",
              "      <td>28.0</td>\n",
              "      <td>Won</td>\n",
              "      <td>W</td>\n",
              "      <td>10.0</td>\n",
              "      <td>4.00</td>\n",
              "      <td>2000.0</td>\n",
              "      <td>2_S275JR+AR-CL1</td>\n",
              "      <td>640665</td>\n",
              "      <td>20210301.0</td>\n",
              "      <td>577.00</td>\n",
              "    </tr>\n",
              "  </tbody>\n",
              "</table>\n",
              "</div>\n",
              "      <button class=\"colab-df-convert\" onclick=\"convertToInteractive('df-2934523a-18ef-4f0f-8510-516b8d95c3ea')\"\n",
              "              title=\"Convert this dataframe to an interactive table.\"\n",
              "              style=\"display:none;\">\n",
              "        \n",
              "  <svg xmlns=\"http://www.w3.org/2000/svg\" height=\"24px\"viewBox=\"0 0 24 24\"\n",
              "       width=\"24px\">\n",
              "    <path d=\"M0 0h24v24H0V0z\" fill=\"none\"/>\n",
              "    <path d=\"M18.56 5.44l.94 2.06.94-2.06 2.06-.94-2.06-.94-.94-2.06-.94 2.06-2.06.94zm-11 1L8.5 8.5l.94-2.06 2.06-.94-2.06-.94L8.5 2.5l-.94 2.06-2.06.94zm10 10l.94 2.06.94-2.06 2.06-.94-2.06-.94-.94-2.06-.94 2.06-2.06.94z\"/><path d=\"M17.41 7.96l-1.37-1.37c-.4-.4-.92-.59-1.43-.59-.52 0-1.04.2-1.43.59L10.3 9.45l-7.72 7.72c-.78.78-.78 2.05 0 2.83L4 21.41c.39.39.9.59 1.41.59.51 0 1.02-.2 1.41-.59l7.78-7.78 2.81-2.81c.8-.78.8-2.07 0-2.86zM5.41 20L4 18.59l7.72-7.72 1.47 1.35L5.41 20z\"/>\n",
              "  </svg>\n",
              "      </button>\n",
              "      \n",
              "  <style>\n",
              "    .colab-df-container {\n",
              "      display:flex;\n",
              "      flex-wrap:wrap;\n",
              "      gap: 12px;\n",
              "    }\n",
              "\n",
              "    .colab-df-convert {\n",
              "      background-color: #E8F0FE;\n",
              "      border: none;\n",
              "      border-radius: 50%;\n",
              "      cursor: pointer;\n",
              "      display: none;\n",
              "      fill: #1967D2;\n",
              "      height: 32px;\n",
              "      padding: 0 0 0 0;\n",
              "      width: 32px;\n",
              "    }\n",
              "\n",
              "    .colab-df-convert:hover {\n",
              "      background-color: #E2EBFA;\n",
              "      box-shadow: 0px 1px 2px rgba(60, 64, 67, 0.3), 0px 1px 3px 1px rgba(60, 64, 67, 0.15);\n",
              "      fill: #174EA6;\n",
              "    }\n",
              "\n",
              "    [theme=dark] .colab-df-convert {\n",
              "      background-color: #3B4455;\n",
              "      fill: #D2E3FC;\n",
              "    }\n",
              "\n",
              "    [theme=dark] .colab-df-convert:hover {\n",
              "      background-color: #434B5C;\n",
              "      box-shadow: 0px 1px 3px 1px rgba(0, 0, 0, 0.15);\n",
              "      filter: drop-shadow(0px 1px 2px rgba(0, 0, 0, 0.3));\n",
              "      fill: #FFFFFF;\n",
              "    }\n",
              "  </style>\n",
              "\n",
              "      <script>\n",
              "        const buttonEl =\n",
              "          document.querySelector('#df-2934523a-18ef-4f0f-8510-516b8d95c3ea button.colab-df-convert');\n",
              "        buttonEl.style.display =\n",
              "          google.colab.kernel.accessAllowed ? 'block' : 'none';\n",
              "\n",
              "        async function convertToInteractive(key) {\n",
              "          const element = document.querySelector('#df-2934523a-18ef-4f0f-8510-516b8d95c3ea');\n",
              "          const dataTable =\n",
              "            await google.colab.kernel.invokeFunction('convertToInteractive',\n",
              "                                                     [key], {});\n",
              "          if (!dataTable) return;\n",
              "\n",
              "          const docLinkHtml = 'Like what you see? Visit the ' +\n",
              "            '<a target=\"_blank\" href=https://colab.research.google.com/notebooks/data_table.ipynb>data table notebook</a>'\n",
              "            + ' to learn more about interactive tables.';\n",
              "          element.innerHTML = '';\n",
              "          dataTable['output_type'] = 'display_data';\n",
              "          await google.colab.output.renderOutput(dataTable, element);\n",
              "          const docLink = document.createElement('div');\n",
              "          docLink.innerHTML = docLinkHtml;\n",
              "          element.appendChild(docLink);\n",
              "        }\n",
              "      </script>\n",
              "    </div>\n",
              "  </div>\n",
              "  "
            ]
          },
          "metadata": {},
          "execution_count": 2
        }
      ]
    },
    {
      "cell_type": "markdown",
      "source": [
        "# ***Preprocessing & EDA***(4c's of data cleaning: correcting, completing, creating & converting)"
      ],
      "metadata": {
        "id": "Ezob-w2fgu5N"
      }
    },
    {
      "cell_type": "code",
      "source": [
        "df.columns"
      ],
      "metadata": {
        "colab": {
          "base_uri": "https://localhost:8080/"
        },
        "id": "Tb6uL_gRsDRQ",
        "outputId": "affd95c6-ee67-4f42-90b1-872c6adc0478"
      },
      "execution_count": 3,
      "outputs": [
        {
          "output_type": "execute_result",
          "data": {
            "text/plain": [
              "Index(['id', 'item_date', 'quantity tons', 'customer', 'country', 'status',\n",
              "       'item type', 'application', 'thickness', 'width', 'material_ref',\n",
              "       'product_ref', 'delivery date', 'selling_price'],\n",
              "      dtype='object')"
            ]
          },
          "metadata": {},
          "execution_count": 3
        }
      ]
    },
    {
      "cell_type": "markdown",
      "source": [
        "Some rubbish values are present in ‘Material_Ref’ which starts with ‘00000’ value which are converted into NaN."
      ],
      "metadata": {
        "id": "a3WFjlyKX-Qo"
      }
    },
    {
      "cell_type": "code",
      "source": [
        "a=df['material_ref'].str.startswith('00000')\n",
        "b=(a==True)\n",
        "df['material_ref'][b]=np.NaN\n",
        "df.head()"
      ],
      "metadata": {
        "id": "b7bmmAK6jEnp",
        "colab": {
          "base_uri": "https://localhost:8080/",
          "height": 0
        },
        "outputId": "6f345ba1-29b4-4803-d8c9-d94714601e14"
      },
      "execution_count": 4,
      "outputs": [
        {
          "output_type": "stream",
          "name": "stderr",
          "text": [
            "<ipython-input-4-e8b48fa690cf>:3: SettingWithCopyWarning: \n",
            "A value is trying to be set on a copy of a slice from a DataFrame\n",
            "\n",
            "See the caveats in the documentation: https://pandas.pydata.org/pandas-docs/stable/user_guide/indexing.html#returning-a-view-versus-a-copy\n",
            "  df['material_ref'][b]=np.NaN\n"
          ]
        },
        {
          "output_type": "execute_result",
          "data": {
            "text/plain": [
              "                                     id   item_date quantity tons    customer  \\\n",
              "0  EC06F063-9DF0-440C-8764-0B0C05A4F6AE  20210401.0     54.151139  30156308.0   \n",
              "1  4E5F4B3D-DDDF-499D-AFDE-A3227EC49425  20210401.0    768.024839  30202938.0   \n",
              "2  E140FF1B-2407-4C02-A0DD-780A093B1158  20210401.0    386.127949  30153963.0   \n",
              "3  F8D507A0-9C62-4EFE-831E-33E1DA53BB50  20210401.0    202.411065  30349574.0   \n",
              "4  4E1C4E78-152B-430A-8094-ADD889C9D0AD  20210401.0    785.526262  30211560.0   \n",
              "\n",
              "   country status item type  application  thickness   width  \\\n",
              "0     28.0    Won         W         10.0       2.00  1500.0   \n",
              "1     25.0    Won         W         41.0       0.80  1210.0   \n",
              "2     30.0    Won        WI         28.0       0.38   952.0   \n",
              "3     32.0    Won         S         59.0       2.30  1317.0   \n",
              "4     28.0    Won         W         10.0       4.00  2000.0   \n",
              "\n",
              "              material_ref  product_ref  delivery date  selling_price  \n",
              "0              DEQ1 S460MC   1670798778     20210701.0         854.00  \n",
              "1                      NaN   1668701718     20210401.0        1047.00  \n",
              "2                 S0380700       628377     20210101.0         644.33  \n",
              "3  DX51D+ZM310MAO 2.3X1317   1668701718     20210101.0         768.00  \n",
              "4          2_S275JR+AR-CL1       640665     20210301.0         577.00  "
            ],
            "text/html": [
              "\n",
              "  <div id=\"df-a603c421-e7ff-4b5a-952f-2a1a3088acec\">\n",
              "    <div class=\"colab-df-container\">\n",
              "      <div>\n",
              "<style scoped>\n",
              "    .dataframe tbody tr th:only-of-type {\n",
              "        vertical-align: middle;\n",
              "    }\n",
              "\n",
              "    .dataframe tbody tr th {\n",
              "        vertical-align: top;\n",
              "    }\n",
              "\n",
              "    .dataframe thead th {\n",
              "        text-align: right;\n",
              "    }\n",
              "</style>\n",
              "<table border=\"1\" class=\"dataframe\">\n",
              "  <thead>\n",
              "    <tr style=\"text-align: right;\">\n",
              "      <th></th>\n",
              "      <th>id</th>\n",
              "      <th>item_date</th>\n",
              "      <th>quantity tons</th>\n",
              "      <th>customer</th>\n",
              "      <th>country</th>\n",
              "      <th>status</th>\n",
              "      <th>item type</th>\n",
              "      <th>application</th>\n",
              "      <th>thickness</th>\n",
              "      <th>width</th>\n",
              "      <th>material_ref</th>\n",
              "      <th>product_ref</th>\n",
              "      <th>delivery date</th>\n",
              "      <th>selling_price</th>\n",
              "    </tr>\n",
              "  </thead>\n",
              "  <tbody>\n",
              "    <tr>\n",
              "      <th>0</th>\n",
              "      <td>EC06F063-9DF0-440C-8764-0B0C05A4F6AE</td>\n",
              "      <td>20210401.0</td>\n",
              "      <td>54.151139</td>\n",
              "      <td>30156308.0</td>\n",
              "      <td>28.0</td>\n",
              "      <td>Won</td>\n",
              "      <td>W</td>\n",
              "      <td>10.0</td>\n",
              "      <td>2.00</td>\n",
              "      <td>1500.0</td>\n",
              "      <td>DEQ1 S460MC</td>\n",
              "      <td>1670798778</td>\n",
              "      <td>20210701.0</td>\n",
              "      <td>854.00</td>\n",
              "    </tr>\n",
              "    <tr>\n",
              "      <th>1</th>\n",
              "      <td>4E5F4B3D-DDDF-499D-AFDE-A3227EC49425</td>\n",
              "      <td>20210401.0</td>\n",
              "      <td>768.024839</td>\n",
              "      <td>30202938.0</td>\n",
              "      <td>25.0</td>\n",
              "      <td>Won</td>\n",
              "      <td>W</td>\n",
              "      <td>41.0</td>\n",
              "      <td>0.80</td>\n",
              "      <td>1210.0</td>\n",
              "      <td>NaN</td>\n",
              "      <td>1668701718</td>\n",
              "      <td>20210401.0</td>\n",
              "      <td>1047.00</td>\n",
              "    </tr>\n",
              "    <tr>\n",
              "      <th>2</th>\n",
              "      <td>E140FF1B-2407-4C02-A0DD-780A093B1158</td>\n",
              "      <td>20210401.0</td>\n",
              "      <td>386.127949</td>\n",
              "      <td>30153963.0</td>\n",
              "      <td>30.0</td>\n",
              "      <td>Won</td>\n",
              "      <td>WI</td>\n",
              "      <td>28.0</td>\n",
              "      <td>0.38</td>\n",
              "      <td>952.0</td>\n",
              "      <td>S0380700</td>\n",
              "      <td>628377</td>\n",
              "      <td>20210101.0</td>\n",
              "      <td>644.33</td>\n",
              "    </tr>\n",
              "    <tr>\n",
              "      <th>3</th>\n",
              "      <td>F8D507A0-9C62-4EFE-831E-33E1DA53BB50</td>\n",
              "      <td>20210401.0</td>\n",
              "      <td>202.411065</td>\n",
              "      <td>30349574.0</td>\n",
              "      <td>32.0</td>\n",
              "      <td>Won</td>\n",
              "      <td>S</td>\n",
              "      <td>59.0</td>\n",
              "      <td>2.30</td>\n",
              "      <td>1317.0</td>\n",
              "      <td>DX51D+ZM310MAO 2.3X1317</td>\n",
              "      <td>1668701718</td>\n",
              "      <td>20210101.0</td>\n",
              "      <td>768.00</td>\n",
              "    </tr>\n",
              "    <tr>\n",
              "      <th>4</th>\n",
              "      <td>4E1C4E78-152B-430A-8094-ADD889C9D0AD</td>\n",
              "      <td>20210401.0</td>\n",
              "      <td>785.526262</td>\n",
              "      <td>30211560.0</td>\n",
              "      <td>28.0</td>\n",
              "      <td>Won</td>\n",
              "      <td>W</td>\n",
              "      <td>10.0</td>\n",
              "      <td>4.00</td>\n",
              "      <td>2000.0</td>\n",
              "      <td>2_S275JR+AR-CL1</td>\n",
              "      <td>640665</td>\n",
              "      <td>20210301.0</td>\n",
              "      <td>577.00</td>\n",
              "    </tr>\n",
              "  </tbody>\n",
              "</table>\n",
              "</div>\n",
              "      <button class=\"colab-df-convert\" onclick=\"convertToInteractive('df-a603c421-e7ff-4b5a-952f-2a1a3088acec')\"\n",
              "              title=\"Convert this dataframe to an interactive table.\"\n",
              "              style=\"display:none;\">\n",
              "        \n",
              "  <svg xmlns=\"http://www.w3.org/2000/svg\" height=\"24px\"viewBox=\"0 0 24 24\"\n",
              "       width=\"24px\">\n",
              "    <path d=\"M0 0h24v24H0V0z\" fill=\"none\"/>\n",
              "    <path d=\"M18.56 5.44l.94 2.06.94-2.06 2.06-.94-2.06-.94-.94-2.06-.94 2.06-2.06.94zm-11 1L8.5 8.5l.94-2.06 2.06-.94-2.06-.94L8.5 2.5l-.94 2.06-2.06.94zm10 10l.94 2.06.94-2.06 2.06-.94-2.06-.94-.94-2.06-.94 2.06-2.06.94z\"/><path d=\"M17.41 7.96l-1.37-1.37c-.4-.4-.92-.59-1.43-.59-.52 0-1.04.2-1.43.59L10.3 9.45l-7.72 7.72c-.78.78-.78 2.05 0 2.83L4 21.41c.39.39.9.59 1.41.59.51 0 1.02-.2 1.41-.59l7.78-7.78 2.81-2.81c.8-.78.8-2.07 0-2.86zM5.41 20L4 18.59l7.72-7.72 1.47 1.35L5.41 20z\"/>\n",
              "  </svg>\n",
              "      </button>\n",
              "      \n",
              "  <style>\n",
              "    .colab-df-container {\n",
              "      display:flex;\n",
              "      flex-wrap:wrap;\n",
              "      gap: 12px;\n",
              "    }\n",
              "\n",
              "    .colab-df-convert {\n",
              "      background-color: #E8F0FE;\n",
              "      border: none;\n",
              "      border-radius: 50%;\n",
              "      cursor: pointer;\n",
              "      display: none;\n",
              "      fill: #1967D2;\n",
              "      height: 32px;\n",
              "      padding: 0 0 0 0;\n",
              "      width: 32px;\n",
              "    }\n",
              "\n",
              "    .colab-df-convert:hover {\n",
              "      background-color: #E2EBFA;\n",
              "      box-shadow: 0px 1px 2px rgba(60, 64, 67, 0.3), 0px 1px 3px 1px rgba(60, 64, 67, 0.15);\n",
              "      fill: #174EA6;\n",
              "    }\n",
              "\n",
              "    [theme=dark] .colab-df-convert {\n",
              "      background-color: #3B4455;\n",
              "      fill: #D2E3FC;\n",
              "    }\n",
              "\n",
              "    [theme=dark] .colab-df-convert:hover {\n",
              "      background-color: #434B5C;\n",
              "      box-shadow: 0px 1px 3px 1px rgba(0, 0, 0, 0.15);\n",
              "      filter: drop-shadow(0px 1px 2px rgba(0, 0, 0, 0.3));\n",
              "      fill: #FFFFFF;\n",
              "    }\n",
              "  </style>\n",
              "\n",
              "      <script>\n",
              "        const buttonEl =\n",
              "          document.querySelector('#df-a603c421-e7ff-4b5a-952f-2a1a3088acec button.colab-df-convert');\n",
              "        buttonEl.style.display =\n",
              "          google.colab.kernel.accessAllowed ? 'block' : 'none';\n",
              "\n",
              "        async function convertToInteractive(key) {\n",
              "          const element = document.querySelector('#df-a603c421-e7ff-4b5a-952f-2a1a3088acec');\n",
              "          const dataTable =\n",
              "            await google.colab.kernel.invokeFunction('convertToInteractive',\n",
              "                                                     [key], {});\n",
              "          if (!dataTable) return;\n",
              "\n",
              "          const docLinkHtml = 'Like what you see? Visit the ' +\n",
              "            '<a target=\"_blank\" href=https://colab.research.google.com/notebooks/data_table.ipynb>data table notebook</a>'\n",
              "            + ' to learn more about interactive tables.';\n",
              "          element.innerHTML = '';\n",
              "          dataTable['output_type'] = 'display_data';\n",
              "          await google.colab.output.renderOutput(dataTable, element);\n",
              "          const docLink = document.createElement('div');\n",
              "          docLink.innerHTML = docLinkHtml;\n",
              "          element.appendChild(docLink);\n",
              "        }\n",
              "      </script>\n",
              "    </div>\n",
              "  </div>\n",
              "  "
            ]
          },
          "metadata": {},
          "execution_count": 4
        }
      ]
    },
    {
      "cell_type": "markdown",
      "source": [
        "## filling NaN values using fillna"
      ],
      "metadata": {
        "id": "zv4ScSWn1Xjj"
      }
    },
    {
      "cell_type": "code",
      "source": [
        "df.shape"
      ],
      "metadata": {
        "colab": {
          "base_uri": "https://localhost:8080/"
        },
        "id": "8K-h3whsI6F_",
        "outputId": "f91a138b-bb3f-4cf0-aeb1-2786a60c88a9"
      },
      "execution_count": 5,
      "outputs": [
        {
          "output_type": "execute_result",
          "data": {
            "text/plain": [
              "(181673, 14)"
            ]
          },
          "metadata": {},
          "execution_count": 5
        }
      ]
    },
    {
      "cell_type": "code",
      "source": [
        "df.nunique()"
      ],
      "metadata": {
        "id": "wJqk-H932m-G",
        "colab": {
          "base_uri": "https://localhost:8080/"
        },
        "outputId": "898cf21b-dd9e-41d0-85c2-7b003a5e29b2"
      },
      "execution_count": 6,
      "outputs": [
        {
          "output_type": "execute_result",
          "data": {
            "text/plain": [
              "id               181671\n",
              "item_date           252\n",
              "quantity tons    181673\n",
              "customer           1169\n",
              "country              17\n",
              "status                9\n",
              "item type             7\n",
              "application          30\n",
              "thickness           594\n",
              "width              1386\n",
              "material_ref      11495\n",
              "product_ref          33\n",
              "delivery date        28\n",
              "selling_price      9795\n",
              "dtype: int64"
            ]
          },
          "metadata": {},
          "execution_count": 6
        }
      ]
    },
    {
      "cell_type": "code",
      "source": [
        "#divinding catogorigal and continuous valued columns\n",
        "median=[]\n",
        "mode=['item_date','customer','status','item type','application','material_ref','country','delivery date','product_ref']\n",
        "mean=['quantity tons','thickness','width','selling_price']\n",
        "columns=list(df.columns) \n",
        "columns.remove('id')"
      ],
      "metadata": {
        "id": "NZ1zTO3xvvGi"
      },
      "execution_count": 7,
      "outputs": []
    },
    {
      "cell_type": "code",
      "source": [
        "#found 'e' in quality tons so replacing it with NaN\n",
        "df['quantity tons']=df['quantity tons'].replace('e',np.NaN).astype('float64').abs()\n",
        "#while changing to date format makes a error\n",
        "df['item_date']=df['item_date'].replace(19950000,np.NaN)\n",
        "df['item_date']=df['item_date'].replace(20191919,np.NaN)\n",
        "df['delivery date']=df['delivery date'].replace(30310101,np.NaN)\n",
        "df['delivery date']=df['delivery date'].replace(20212222,np.NaN)\n"
      ],
      "metadata": {
        "id": "PVm1TgZvUNoV"
      },
      "execution_count": 8,
      "outputs": []
    },
    {
      "cell_type": "code",
      "source": [
        "df.isnull().sum()"
      ],
      "metadata": {
        "id": "uvAEyQh8X3PA",
        "colab": {
          "base_uri": "https://localhost:8080/"
        },
        "outputId": "402fcf88-d6f4-4ad6-b5a8-50544b2e875e"
      },
      "execution_count": 9,
      "outputs": [
        {
          "output_type": "execute_result",
          "data": {
            "text/plain": [
              "id                    2\n",
              "item_date             3\n",
              "quantity tons         1\n",
              "customer              1\n",
              "country              28\n",
              "status                2\n",
              "item type             0\n",
              "application          24\n",
              "thickness             1\n",
              "width                 0\n",
              "material_ref     100645\n",
              "product_ref           0\n",
              "delivery date         3\n",
              "selling_price         1\n",
              "dtype: int64"
            ]
          },
          "metadata": {},
          "execution_count": 9
        }
      ]
    },
    {
      "cell_type": "code",
      "source": [
        "for i in columns:\n",
        "  if i in median:\n",
        "    df[i].fillna(df[i].median(),inplace=True)\n",
        "  elif i in mode:\n",
        "    df[i].fillna(df[i].mode()[0],inplace=True)\n",
        "  elif i in mean:\n",
        "    df[i].fillna(df[i].mean(),inplace=True)\n",
        "df.isnull().sum()"
      ],
      "metadata": {
        "id": "E8nAKzKo1g-r",
        "colab": {
          "base_uri": "https://localhost:8080/"
        },
        "outputId": "03ca4f7b-3883-4512-c194-807dc3705656"
      },
      "execution_count": 10,
      "outputs": [
        {
          "output_type": "execute_result",
          "data": {
            "text/plain": [
              "id               2\n",
              "item_date        0\n",
              "quantity tons    0\n",
              "customer         0\n",
              "country          0\n",
              "status           0\n",
              "item type        0\n",
              "application      0\n",
              "thickness        0\n",
              "width            0\n",
              "material_ref     0\n",
              "product_ref      0\n",
              "delivery date    0\n",
              "selling_price    0\n",
              "dtype: int64"
            ]
          },
          "metadata": {},
          "execution_count": 10
        }
      ]
    },
    {
      "cell_type": "markdown",
      "source": [
        "Changing dtypes in df(if any found)"
      ],
      "metadata": {
        "id": "oHYXoSOOa4RT"
      }
    },
    {
      "cell_type": "code",
      "source": [
        "df['country']=df['country'].astype('int64')\n",
        "df['application']=df['application'].astype('int64')"
      ],
      "metadata": {
        "id": "BbsauQgaCtON"
      },
      "execution_count": 11,
      "outputs": []
    },
    {
      "cell_type": "code",
      "source": [
        "#changig item date and delivery date to date format\n",
        "df['item_date'] = pd.to_datetime(df['item_date'].astype('int64'),format='%Y%m%d')"
      ],
      "metadata": {
        "id": "AH5HQzPFsNNZ"
      },
      "execution_count": 12,
      "outputs": []
    },
    {
      "cell_type": "code",
      "source": [
        "df['delivery date'] = pd.to_datetime(df['delivery date'].astype('int64'),format='%Y%m%d')"
      ],
      "metadata": {
        "id": "dt22RI0ssNIF"
      },
      "execution_count": 13,
      "outputs": []
    },
    {
      "cell_type": "code",
      "source": [
        "df.head()"
      ],
      "metadata": {
        "id": "OZIqAffZE9wp",
        "colab": {
          "base_uri": "https://localhost:8080/",
          "height": 0
        },
        "outputId": "9977fdfa-8b37-4fa7-d747-aca5e6648d93"
      },
      "execution_count": 14,
      "outputs": [
        {
          "output_type": "execute_result",
          "data": {
            "text/plain": [
              "                                     id  item_date  quantity tons    customer  \\\n",
              "0  EC06F063-9DF0-440C-8764-0B0C05A4F6AE 2021-04-01      54.151139  30156308.0   \n",
              "1  4E5F4B3D-DDDF-499D-AFDE-A3227EC49425 2021-04-01     768.024839  30202938.0   \n",
              "2  E140FF1B-2407-4C02-A0DD-780A093B1158 2021-04-01     386.127949  30153963.0   \n",
              "3  F8D507A0-9C62-4EFE-831E-33E1DA53BB50 2021-04-01     202.411065  30349574.0   \n",
              "4  4E1C4E78-152B-430A-8094-ADD889C9D0AD 2021-04-01     785.526262  30211560.0   \n",
              "\n",
              "   country status item type  application  thickness   width  \\\n",
              "0       28    Won         W           10       2.00  1500.0   \n",
              "1       25    Won         W           41       0.80  1210.0   \n",
              "2       30    Won        WI           28       0.38   952.0   \n",
              "3       32    Won         S           59       2.30  1317.0   \n",
              "4       28    Won         W           10       4.00  2000.0   \n",
              "\n",
              "              material_ref  product_ref delivery date  selling_price  \n",
              "0              DEQ1 S460MC   1670798778    2021-07-01         854.00  \n",
              "1                  DX51D+Z   1668701718    2021-04-01        1047.00  \n",
              "2                 S0380700       628377    2021-01-01         644.33  \n",
              "3  DX51D+ZM310MAO 2.3X1317   1668701718    2021-01-01         768.00  \n",
              "4          2_S275JR+AR-CL1       640665    2021-03-01         577.00  "
            ],
            "text/html": [
              "\n",
              "  <div id=\"df-4c8fea4d-b02f-4598-a4ef-b0c52848153e\">\n",
              "    <div class=\"colab-df-container\">\n",
              "      <div>\n",
              "<style scoped>\n",
              "    .dataframe tbody tr th:only-of-type {\n",
              "        vertical-align: middle;\n",
              "    }\n",
              "\n",
              "    .dataframe tbody tr th {\n",
              "        vertical-align: top;\n",
              "    }\n",
              "\n",
              "    .dataframe thead th {\n",
              "        text-align: right;\n",
              "    }\n",
              "</style>\n",
              "<table border=\"1\" class=\"dataframe\">\n",
              "  <thead>\n",
              "    <tr style=\"text-align: right;\">\n",
              "      <th></th>\n",
              "      <th>id</th>\n",
              "      <th>item_date</th>\n",
              "      <th>quantity tons</th>\n",
              "      <th>customer</th>\n",
              "      <th>country</th>\n",
              "      <th>status</th>\n",
              "      <th>item type</th>\n",
              "      <th>application</th>\n",
              "      <th>thickness</th>\n",
              "      <th>width</th>\n",
              "      <th>material_ref</th>\n",
              "      <th>product_ref</th>\n",
              "      <th>delivery date</th>\n",
              "      <th>selling_price</th>\n",
              "    </tr>\n",
              "  </thead>\n",
              "  <tbody>\n",
              "    <tr>\n",
              "      <th>0</th>\n",
              "      <td>EC06F063-9DF0-440C-8764-0B0C05A4F6AE</td>\n",
              "      <td>2021-04-01</td>\n",
              "      <td>54.151139</td>\n",
              "      <td>30156308.0</td>\n",
              "      <td>28</td>\n",
              "      <td>Won</td>\n",
              "      <td>W</td>\n",
              "      <td>10</td>\n",
              "      <td>2.00</td>\n",
              "      <td>1500.0</td>\n",
              "      <td>DEQ1 S460MC</td>\n",
              "      <td>1670798778</td>\n",
              "      <td>2021-07-01</td>\n",
              "      <td>854.00</td>\n",
              "    </tr>\n",
              "    <tr>\n",
              "      <th>1</th>\n",
              "      <td>4E5F4B3D-DDDF-499D-AFDE-A3227EC49425</td>\n",
              "      <td>2021-04-01</td>\n",
              "      <td>768.024839</td>\n",
              "      <td>30202938.0</td>\n",
              "      <td>25</td>\n",
              "      <td>Won</td>\n",
              "      <td>W</td>\n",
              "      <td>41</td>\n",
              "      <td>0.80</td>\n",
              "      <td>1210.0</td>\n",
              "      <td>DX51D+Z</td>\n",
              "      <td>1668701718</td>\n",
              "      <td>2021-04-01</td>\n",
              "      <td>1047.00</td>\n",
              "    </tr>\n",
              "    <tr>\n",
              "      <th>2</th>\n",
              "      <td>E140FF1B-2407-4C02-A0DD-780A093B1158</td>\n",
              "      <td>2021-04-01</td>\n",
              "      <td>386.127949</td>\n",
              "      <td>30153963.0</td>\n",
              "      <td>30</td>\n",
              "      <td>Won</td>\n",
              "      <td>WI</td>\n",
              "      <td>28</td>\n",
              "      <td>0.38</td>\n",
              "      <td>952.0</td>\n",
              "      <td>S0380700</td>\n",
              "      <td>628377</td>\n",
              "      <td>2021-01-01</td>\n",
              "      <td>644.33</td>\n",
              "    </tr>\n",
              "    <tr>\n",
              "      <th>3</th>\n",
              "      <td>F8D507A0-9C62-4EFE-831E-33E1DA53BB50</td>\n",
              "      <td>2021-04-01</td>\n",
              "      <td>202.411065</td>\n",
              "      <td>30349574.0</td>\n",
              "      <td>32</td>\n",
              "      <td>Won</td>\n",
              "      <td>S</td>\n",
              "      <td>59</td>\n",
              "      <td>2.30</td>\n",
              "      <td>1317.0</td>\n",
              "      <td>DX51D+ZM310MAO 2.3X1317</td>\n",
              "      <td>1668701718</td>\n",
              "      <td>2021-01-01</td>\n",
              "      <td>768.00</td>\n",
              "    </tr>\n",
              "    <tr>\n",
              "      <th>4</th>\n",
              "      <td>4E1C4E78-152B-430A-8094-ADD889C9D0AD</td>\n",
              "      <td>2021-04-01</td>\n",
              "      <td>785.526262</td>\n",
              "      <td>30211560.0</td>\n",
              "      <td>28</td>\n",
              "      <td>Won</td>\n",
              "      <td>W</td>\n",
              "      <td>10</td>\n",
              "      <td>4.00</td>\n",
              "      <td>2000.0</td>\n",
              "      <td>2_S275JR+AR-CL1</td>\n",
              "      <td>640665</td>\n",
              "      <td>2021-03-01</td>\n",
              "      <td>577.00</td>\n",
              "    </tr>\n",
              "  </tbody>\n",
              "</table>\n",
              "</div>\n",
              "      <button class=\"colab-df-convert\" onclick=\"convertToInteractive('df-4c8fea4d-b02f-4598-a4ef-b0c52848153e')\"\n",
              "              title=\"Convert this dataframe to an interactive table.\"\n",
              "              style=\"display:none;\">\n",
              "        \n",
              "  <svg xmlns=\"http://www.w3.org/2000/svg\" height=\"24px\"viewBox=\"0 0 24 24\"\n",
              "       width=\"24px\">\n",
              "    <path d=\"M0 0h24v24H0V0z\" fill=\"none\"/>\n",
              "    <path d=\"M18.56 5.44l.94 2.06.94-2.06 2.06-.94-2.06-.94-.94-2.06-.94 2.06-2.06.94zm-11 1L8.5 8.5l.94-2.06 2.06-.94-2.06-.94L8.5 2.5l-.94 2.06-2.06.94zm10 10l.94 2.06.94-2.06 2.06-.94-2.06-.94-.94-2.06-.94 2.06-2.06.94z\"/><path d=\"M17.41 7.96l-1.37-1.37c-.4-.4-.92-.59-1.43-.59-.52 0-1.04.2-1.43.59L10.3 9.45l-7.72 7.72c-.78.78-.78 2.05 0 2.83L4 21.41c.39.39.9.59 1.41.59.51 0 1.02-.2 1.41-.59l7.78-7.78 2.81-2.81c.8-.78.8-2.07 0-2.86zM5.41 20L4 18.59l7.72-7.72 1.47 1.35L5.41 20z\"/>\n",
              "  </svg>\n",
              "      </button>\n",
              "      \n",
              "  <style>\n",
              "    .colab-df-container {\n",
              "      display:flex;\n",
              "      flex-wrap:wrap;\n",
              "      gap: 12px;\n",
              "    }\n",
              "\n",
              "    .colab-df-convert {\n",
              "      background-color: #E8F0FE;\n",
              "      border: none;\n",
              "      border-radius: 50%;\n",
              "      cursor: pointer;\n",
              "      display: none;\n",
              "      fill: #1967D2;\n",
              "      height: 32px;\n",
              "      padding: 0 0 0 0;\n",
              "      width: 32px;\n",
              "    }\n",
              "\n",
              "    .colab-df-convert:hover {\n",
              "      background-color: #E2EBFA;\n",
              "      box-shadow: 0px 1px 2px rgba(60, 64, 67, 0.3), 0px 1px 3px 1px rgba(60, 64, 67, 0.15);\n",
              "      fill: #174EA6;\n",
              "    }\n",
              "\n",
              "    [theme=dark] .colab-df-convert {\n",
              "      background-color: #3B4455;\n",
              "      fill: #D2E3FC;\n",
              "    }\n",
              "\n",
              "    [theme=dark] .colab-df-convert:hover {\n",
              "      background-color: #434B5C;\n",
              "      box-shadow: 0px 1px 3px 1px rgba(0, 0, 0, 0.15);\n",
              "      filter: drop-shadow(0px 1px 2px rgba(0, 0, 0, 0.3));\n",
              "      fill: #FFFFFF;\n",
              "    }\n",
              "  </style>\n",
              "\n",
              "      <script>\n",
              "        const buttonEl =\n",
              "          document.querySelector('#df-4c8fea4d-b02f-4598-a4ef-b0c52848153e button.colab-df-convert');\n",
              "        buttonEl.style.display =\n",
              "          google.colab.kernel.accessAllowed ? 'block' : 'none';\n",
              "\n",
              "        async function convertToInteractive(key) {\n",
              "          const element = document.querySelector('#df-4c8fea4d-b02f-4598-a4ef-b0c52848153e');\n",
              "          const dataTable =\n",
              "            await google.colab.kernel.invokeFunction('convertToInteractive',\n",
              "                                                     [key], {});\n",
              "          if (!dataTable) return;\n",
              "\n",
              "          const docLinkHtml = 'Like what you see? Visit the ' +\n",
              "            '<a target=\"_blank\" href=https://colab.research.google.com/notebooks/data_table.ipynb>data table notebook</a>'\n",
              "            + ' to learn more about interactive tables.';\n",
              "          element.innerHTML = '';\n",
              "          dataTable['output_type'] = 'display_data';\n",
              "          await google.colab.output.renderOutput(dataTable, element);\n",
              "          const docLink = document.createElement('div');\n",
              "          docLink.innerHTML = docLinkHtml;\n",
              "          element.appendChild(docLink);\n",
              "        }\n",
              "      </script>\n",
              "    </div>\n",
              "  </div>\n",
              "  "
            ]
          },
          "metadata": {},
          "execution_count": 14
        }
      ]
    },
    {
      "cell_type": "markdown",
      "source": [
        "finding outliers and skewness"
      ],
      "metadata": {
        "id": "4aSAx-TUeP1H"
      }
    },
    {
      "cell_type": "code",
      "source": [
        "df.plot(kind='box',subplots=True,layout=(2,5),figsize=(20,8))\n",
        "plt.show"
      ],
      "metadata": {
        "colab": {
          "base_uri": "https://localhost:8080/",
          "height": 0
        },
        "id": "j88KkKe5gB2F",
        "outputId": "a07f2f8a-84de-494b-c393-6a9ef39561bc"
      },
      "execution_count": 15,
      "outputs": [
        {
          "output_type": "execute_result",
          "data": {
            "text/plain": [
              "<function matplotlib.pyplot.show(close=None, block=None)>"
            ]
          },
          "metadata": {},
          "execution_count": 15
        },
        {
          "output_type": "display_data",
          "data": {
            "text/plain": [
              "<Figure size 2000x800 with 10 Axes>"
            ],
            "image/png": "[encoded data removed]"
          },
          "metadata": {}
        }
      ]
    },
    {
      "cell_type": "code",
      "source": [
        "df.skew()"
      ],
      "metadata": {
        "colab": {
          "base_uri": "https://localhost:8080/"
        },
        "id": "wuCuKwi5kAhm",
        "outputId": "ec6948af-b5cb-499e-90c6-e4c4d10f8141"
      },
      "execution_count": 16,
      "outputs": [
        {
          "output_type": "stream",
          "name": "stderr",
          "text": [
            "<ipython-input-16-9e0b1e29546f>:1: FutureWarning: The default value of numeric_only in DataFrame.skew is deprecated. In a future version, it will default to False. In addition, specifying 'numeric_only=None' is deprecated. Select only valid columns or specify the value of numeric_only to silence this warning.\n",
            "  df.skew()\n"
          ]
        },
        {
          "output_type": "execute_result",
          "data": {
            "text/plain": [
              "quantity tons    424.690816\n",
              "customer          86.985308\n",
              "country            0.753090\n",
              "application        0.724555\n",
              "thickness        303.447634\n",
              "width              0.374597\n",
              "product_ref        1.015216\n",
              "selling_price    301.388088\n",
              "dtype: float64"
            ]
          },
          "metadata": {},
          "execution_count": 16
        }
      ]
    },
    {
      "cell_type": "markdown",
      "source": [
        "To find the lower and upper limit with IQR\n",
        "calculating the Interquartile Range of the data (IQR = Q3 — Q1). Later, will be determine the outlier boundaries with IQR.where Q='table col'.quantile('0.25 and 0.75')\n",
        "And getting the lower boundary with Q1–1.5 * IQR and getting upper boundary with Q3 + 1.5 * IQR."
      ],
      "metadata": {
        "id": "He5plx3nkikO"
      }
    },
    {
      "cell_type": "code",
      "source": [
        "correction_columns=['quantity tons','thickness','width','selling_price']\n",
        "for i in correction_columns:\n",
        "  Q1=df[i].quantile(0.25)\n",
        "  Q3=df[i].quantile(0.75)\n",
        "  IQR=Q3-Q1\n",
        "  print('\\n',i,' lower limit=',Q1-1.5 * IQR,' upper limit=',Q3+1.5 * IQR)"
      ],
      "metadata": {
        "colab": {
          "base_uri": "https://localhost:8080/"
        },
        "id": "bHr6dnYBkv5a",
        "outputId": "9ddf0f4c-0d46-43cb-e381-332a9221a4fa"
      },
      "execution_count": 17,
      "outputs": [
        {
          "output_type": "stream",
          "name": "stdout",
          "text": [
            "\n",
            " quantity tons  lower limit= -73.31540512358451  upper limit= 151.44757009725032\n",
            "\n",
            " thickness  lower limit= -2.75  upper limit= 6.449999999999999\n",
            "\n",
            " width  lower limit= 700.0  upper limit= 1980.0\n",
            "\n",
            " selling_price  lower limit= 243.0  upper limit= 1379.0\n"
          ]
        }
      ]
    },
    {
      "cell_type": "code",
      "source": [
        "correction_columns=['quantity tons','thickness','width','selling_price']\n",
        "for i in correction_columns:\n",
        "  Q1=df[i].quantile(0.02)\n",
        "  Q3=df[i].quantile(0.98)\n",
        "  print('\\n',i,' lower limit=',Q1,' upper limit=',Q3)"
      ],
      "metadata": {
        "colab": {
          "base_uri": "https://localhost:8080/"
        },
        "id": "Sma0Ksc9dSTU",
        "outputId": "ed4660f9-9407-4c16-d3df-b2f254bacf17"
      },
      "execution_count": 18,
      "outputs": [
        {
          "output_type": "stream",
          "name": "stdout",
          "text": [
            "\n",
            " quantity tons  lower limit= 1.3687438786867419  upper limit= 702.789880521828\n",
            "\n",
            " thickness  lower limit= 0.4  upper limit= 12.0\n",
            "\n",
            " width  lower limit= 811.0  upper limit= 2000.0\n",
            "\n",
            " selling_price  lower limit= 432.0  upper limit= 1295.0\n"
          ]
        }
      ]
    },
    {
      "cell_type": "code",
      "source": [
        "from scipy.stats.mstats import winsorize"
      ],
      "metadata": {
        "id": "0sUdd4WBdFtm"
      },
      "execution_count": 19,
      "outputs": []
    },
    {
      "cell_type": "code",
      "source": [
        "correction_columns=['quantity tons','thickness','width','selling_price']\n",
        "for i in correction_columns:\n",
        "  df[i]=winsorize(df[i],(0.02,0.02))\n",
        "df.plot(kind='box',subplots=True,layout=(2,5),figsize=(20,8))\n",
        "plt.show"
      ],
      "metadata": {
        "id": "cjd230EZe8aN",
        "colab": {
          "base_uri": "https://localhost:8080/",
          "height": 0
        },
        "outputId": "f1f14f8f-ac66-4b6e-fa3c-3cf32502f3be"
      },
      "execution_count": 20,
      "outputs": [
        {
          "output_type": "execute_result",
          "data": {
            "text/plain": [
              "<function matplotlib.pyplot.show(close=None, block=None)>"
            ]
          },
          "metadata": {},
          "execution_count": 20
        },
        {
          "output_type": "display_data",
          "data": {
            "text/plain": [
              "<Figure size 2000x800 with 10 Axes>"
            ],
            "image/png": "[encoded data removed]"
          },
          "metadata": {}
        }
      ]
    },
    {
      "cell_type": "code",
      "source": [
        "df.hist(layout=(2,5),figsize=(20,8))\n",
        "plt.show()"
      ],
      "metadata": {
        "colab": {
          "base_uri": "https://localhost:8080/",
          "height": 0
        },
        "id": "4Li0Up3ysyNW",
        "outputId": "5203a4ff-9c6e-4052-ee34-2cd5bfb9d67e"
      },
      "execution_count": 21,
      "outputs": [
        {
          "output_type": "display_data",
          "data": {
            "text/plain": [
              "<Figure size 2000x800 with 10 Axes>"
            ],
            "image/png": "[encoded data removed]"
          },
          "metadata": {}
        }
      ]
    },
    {
      "cell_type": "code",
      "source": [
        "df.skew()"
      ],
      "metadata": {
        "colab": {
          "base_uri": "https://localhost:8080/"
        },
        "id": "tfAMpluwsvqq",
        "outputId": "a461e225-5e44-4da6-f7e4-fcb9a54c4816"
      },
      "execution_count": 22,
      "outputs": [
        {
          "output_type": "stream",
          "name": "stderr",
          "text": [
            "<ipython-input-22-9e0b1e29546f>:1: FutureWarning: The default value of numeric_only in DataFrame.skew is deprecated. In a future version, it will default to False. In addition, specifying 'numeric_only=None' is deprecated. Select only valid columns or specify the value of numeric_only to silence this warning.\n",
            "  df.skew()\n"
          ]
        },
        {
          "output_type": "execute_result",
          "data": {
            "text/plain": [
              "quantity tons     3.466226\n",
              "customer         86.985308\n",
              "country           0.753090\n",
              "application       0.724555\n",
              "thickness         1.971541\n",
              "width             0.824430\n",
              "product_ref       1.015216\n",
              "selling_price     0.305634\n",
              "dtype: float64"
            ]
          },
          "metadata": {},
          "execution_count": 22
        }
      ]
    },
    {
      "cell_type": "code",
      "source": [
        "df.describe()"
      ],
      "metadata": {
        "id": "AgGEWAfDfHXn",
        "colab": {
          "base_uri": "https://localhost:8080/",
          "height": 0
        },
        "outputId": "495b74e6-a30f-44b8-98a7-f6778ca3c136"
      },
      "execution_count": 23,
      "outputs": [
        {
          "output_type": "stream",
          "name": "stderr",
          "text": [
            "/usr/local/lib/python3.10/dist-packages/numpy/lib/function_base.py:4737: UserWarning: Warning: 'partition' will ignore the 'mask' of the MaskedArray.\n",
            "  arr.partition(\n",
            "/usr/local/lib/python3.10/dist-packages/numpy/lib/function_base.py:4737: UserWarning: Warning: 'partition' will ignore the 'mask' of the MaskedArray.\n",
            "  arr.partition(\n",
            "/usr/local/lib/python3.10/dist-packages/numpy/lib/function_base.py:4737: UserWarning: Warning: 'partition' will ignore the 'mask' of the MaskedArray.\n",
            "  arr.partition(\n",
            "/usr/local/lib/python3.10/dist-packages/numpy/lib/function_base.py:4737: UserWarning: Warning: 'partition' will ignore the 'mask' of the MaskedArray.\n",
            "  arr.partition(\n",
            "/usr/local/lib/python3.10/dist-packages/numpy/lib/function_base.py:4737: UserWarning: Warning: 'partition' will ignore the 'mask' of the MaskedArray.\n",
            "  arr.partition(\n"
          ]
        },
        {
          "output_type": "execute_result",
          "data": {
            "text/plain": [
              "       quantity tons      customer        country    application  \\\n",
              "count  181673.000000  1.816730e+05  181673.000000  181673.000000   \n",
              "mean       73.461387  3.051221e+07      44.898125      25.613746   \n",
              "std       127.659700  2.433375e+07      24.405794      17.753909   \n",
              "min         1.368630  1.245800e+04      25.000000       2.000000   \n",
              "25%        10.970711  3.019688e+07      26.000000      10.000000   \n",
              "50%        30.365004  3.020524e+07      30.000000      15.000000   \n",
              "75%        67.161454  3.028042e+07      78.000000      41.000000   \n",
              "max       702.793565  2.147484e+09     113.000000      99.000000   \n",
              "\n",
              "           thickness          width   product_ref  selling_price  \n",
              "count  181673.000000  181673.000000  1.816730e+05  181673.000000  \n",
              "mean        2.496851    1299.610025  4.739679e+08     821.179020  \n",
              "std         2.585184     248.265048  7.175101e+08     198.321235  \n",
              "min         0.400000     811.000000  6.117280e+05     432.000000  \n",
              "25%         0.700000    1180.000000  6.119930e+05     669.000000  \n",
              "50%         1.500000    1250.000000  6.406650e+05     812.000000  \n",
              "75%         3.000000    1500.000000  1.332077e+09     953.000000  \n",
              "max        12.000000    2000.000000  1.722208e+09    1295.000000  "
            ],
            "text/html": [
              "\n",
              "  <div id=\"df-aed05cd2-a64e-48fd-9817-13adb78f5df3\">\n",
              "    <div class=\"colab-df-container\">\n",
              "      <div>\n",
              "<style scoped>\n",
              "    .dataframe tbody tr th:only-of-type {\n",
              "        vertical-align: middle;\n",
              "    }\n",
              "\n",
              "    .dataframe tbody tr th {\n",
              "        vertical-align: top;\n",
              "    }\n",
              "\n",
              "    .dataframe thead th {\n",
              "        text-align: right;\n",
              "    }\n",
              "</style>\n",
              "<table border=\"1\" class=\"dataframe\">\n",
              "  <thead>\n",
              "    <tr style=\"text-align: right;\">\n",
              "      <th></th>\n",
              "      <th>quantity tons</th>\n",
              "      <th>customer</th>\n",
              "      <th>country</th>\n",
              "      <th>application</th>\n",
              "      <th>thickness</th>\n",
              "      <th>width</th>\n",
              "      <th>product_ref</th>\n",
              "      <th>selling_price</th>\n",
              "    </tr>\n",
              "  </thead>\n",
              "  <tbody>\n",
              "    <tr>\n",
              "      <th>count</th>\n",
              "      <td>181673.000000</td>\n",
              "      <td>1.816730e+05</td>\n",
              "      <td>181673.000000</td>\n",
              "      <td>181673.000000</td>\n",
              "      <td>181673.000000</td>\n",
              "      <td>181673.000000</td>\n",
              "      <td>1.816730e+05</td>\n",
              "      <td>181673.000000</td>\n",
              "    </tr>\n",
              "    <tr>\n",
              "      <th>mean</th>\n",
              "      <td>73.461387</td>\n",
              "      <td>3.051221e+07</td>\n",
              "      <td>44.898125</td>\n",
              "      <td>25.613746</td>\n",
              "      <td>2.496851</td>\n",
              "      <td>1299.610025</td>\n",
              "      <td>4.739679e+08</td>\n",
              "      <td>821.179020</td>\n",
              "    </tr>\n",
              "    <tr>\n",
              "      <th>std</th>\n",
              "      <td>127.659700</td>\n",
              "      <td>2.433375e+07</td>\n",
              "      <td>24.405794</td>\n",
              "      <td>17.753909</td>\n",
              "      <td>2.585184</td>\n",
              "      <td>248.265048</td>\n",
              "      <td>7.175101e+08</td>\n",
              "      <td>198.321235</td>\n",
              "    </tr>\n",
              "    <tr>\n",
              "      <th>min</th>\n",
              "      <td>1.368630</td>\n",
              "      <td>1.245800e+04</td>\n",
              "      <td>25.000000</td>\n",
              "      <td>2.000000</td>\n",
              "      <td>0.400000</td>\n",
              "      <td>811.000000</td>\n",
              "      <td>6.117280e+05</td>\n",
              "      <td>432.000000</td>\n",
              "    </tr>\n",
              "    <tr>\n",
              "      <th>25%</th>\n",
              "      <td>10.970711</td>\n",
              "      <td>3.019688e+07</td>\n",
              "      <td>26.000000</td>\n",
              "      <td>10.000000</td>\n",
              "      <td>0.700000</td>\n",
              "      <td>1180.000000</td>\n",
              "      <td>6.119930e+05</td>\n",
              "      <td>669.000000</td>\n",
              "    </tr>\n",
              "    <tr>\n",
              "      <th>50%</th>\n",
              "      <td>30.365004</td>\n",
              "      <td>3.020524e+07</td>\n",
              "      <td>30.000000</td>\n",
              "      <td>15.000000</td>\n",
              "      <td>1.500000</td>\n",
              "      <td>1250.000000</td>\n",
              "      <td>6.406650e+05</td>\n",
              "      <td>812.000000</td>\n",
              "    </tr>\n",
              "    <tr>\n",
              "      <th>75%</th>\n",
              "      <td>67.161454</td>\n",
              "      <td>3.028042e+07</td>\n",
              "      <td>78.000000</td>\n",
              "      <td>41.000000</td>\n",
              "      <td>3.000000</td>\n",
              "      <td>1500.000000</td>\n",
              "      <td>1.332077e+09</td>\n",
              "      <td>953.000000</td>\n",
              "    </tr>\n",
              "    <tr>\n",
              "      <th>max</th>\n",
              "      <td>702.793565</td>\n",
              "      <td>2.147484e+09</td>\n",
              "      <td>113.000000</td>\n",
              "      <td>99.000000</td>\n",
              "      <td>12.000000</td>\n",
              "      <td>2000.000000</td>\n",
              "      <td>1.722208e+09</td>\n",
              "      <td>1295.000000</td>\n",
              "    </tr>\n",
              "  </tbody>\n",
              "</table>\n",
              "</div>\n",
              "      <button class=\"colab-df-convert\" onclick=\"convertToInteractive('df-aed05cd2-a64e-48fd-9817-13adb78f5df3')\"\n",
              "              title=\"Convert this dataframe to an interactive table.\"\n",
              "              style=\"display:none;\">\n",
              "        \n",
              "  <svg xmlns=\"http://www.w3.org/2000/svg\" height=\"24px\"viewBox=\"0 0 24 24\"\n",
              "       width=\"24px\">\n",
              "    <path d=\"M0 0h24v24H0V0z\" fill=\"none\"/>\n",
              "    <path d=\"M18.56 5.44l.94 2.06.94-2.06 2.06-.94-2.06-.94-.94-2.06-.94 2.06-2.06.94zm-11 1L8.5 8.5l.94-2.06 2.06-.94-2.06-.94L8.5 2.5l-.94 2.06-2.06.94zm10 10l.94 2.06.94-2.06 2.06-.94-2.06-.94-.94-2.06-.94 2.06-2.06.94z\"/><path d=\"M17.41 7.96l-1.37-1.37c-.4-.4-.92-.59-1.43-.59-.52 0-1.04.2-1.43.59L10.3 9.45l-7.72 7.72c-.78.78-.78 2.05 0 2.83L4 21.41c.39.39.9.59 1.41.59.51 0 1.02-.2 1.41-.59l7.78-7.78 2.81-2.81c.8-.78.8-2.07 0-2.86zM5.41 20L4 18.59l7.72-7.72 1.47 1.35L5.41 20z\"/>\n",
              "  </svg>\n",
              "      </button>\n",
              "      \n",
              "  <style>\n",
              "    .colab-df-container {\n",
              "      display:flex;\n",
              "      flex-wrap:wrap;\n",
              "      gap: 12px;\n",
              "    }\n",
              "\n",
              "    .colab-df-convert {\n",
              "      background-color: #E8F0FE;\n",
              "      border: none;\n",
              "      border-radius: 50%;\n",
              "      cursor: pointer;\n",
              "      display: none;\n",
              "      fill: #1967D2;\n",
              "      height: 32px;\n",
              "      padding: 0 0 0 0;\n",
              "      width: 32px;\n",
              "    }\n",
              "\n",
              "    .colab-df-convert:hover {\n",
              "      background-color: #E2EBFA;\n",
              "      box-shadow: 0px 1px 2px rgba(60, 64, 67, 0.3), 0px 1px 3px 1px rgba(60, 64, 67, 0.15);\n",
              "      fill: #174EA6;\n",
              "    }\n",
              "\n",
              "    [theme=dark] .colab-df-convert {\n",
              "      background-color: #3B4455;\n",
              "      fill: #D2E3FC;\n",
              "    }\n",
              "\n",
              "    [theme=dark] .colab-df-convert:hover {\n",
              "      background-color: #434B5C;\n",
              "      box-shadow: 0px 1px 3px 1px rgba(0, 0, 0, 0.15);\n",
              "      filter: drop-shadow(0px 1px 2px rgba(0, 0, 0, 0.3));\n",
              "      fill: #FFFFFF;\n",
              "    }\n",
              "  </style>\n",
              "\n",
              "      <script>\n",
              "        const buttonEl =\n",
              "          document.querySelector('#df-aed05cd2-a64e-48fd-9817-13adb78f5df3 button.colab-df-convert');\n",
              "        buttonEl.style.display =\n",
              "          google.colab.kernel.accessAllowed ? 'block' : 'none';\n",
              "\n",
              "        async function convertToInteractive(key) {\n",
              "          const element = document.querySelector('#df-aed05cd2-a64e-48fd-9817-13adb78f5df3');\n",
              "          const dataTable =\n",
              "            await google.colab.kernel.invokeFunction('convertToInteractive',\n",
              "                                                     [key], {});\n",
              "          if (!dataTable) return;\n",
              "\n",
              "          const docLinkHtml = 'Like what you see? Visit the ' +\n",
              "            '<a target=\"_blank\" href=https://colab.research.google.com/notebooks/data_table.ipynb>data table notebook</a>'\n",
              "            + ' to learn more about interactive tables.';\n",
              "          element.innerHTML = '';\n",
              "          dataTable['output_type'] = 'display_data';\n",
              "          await google.colab.output.renderOutput(dataTable, element);\n",
              "          const docLink = document.createElement('div');\n",
              "          docLink.innerHTML = docLinkHtml;\n",
              "          element.appendChild(docLink);\n",
              "        }\n",
              "      </script>\n",
              "    </div>\n",
              "  </div>\n",
              "  "
            ]
          },
          "metadata": {},
          "execution_count": 23
        }
      ]
    },
    {
      "cell_type": "code",
      "source": [
        "from sklearn.preprocessing import LabelEncoder"
      ],
      "metadata": {
        "id": "m37YkV-gebE8"
      },
      "execution_count": 24,
      "outputs": []
    },
    {
      "cell_type": "code",
      "source": [
        "cat_col=['country','status','customer','item type','application','material_ref','product_ref']\n",
        "le = LabelEncoder()\n",
        "for i in cat_col:\n",
        "  print(i)\n",
        "  print(df[i].unique())\n",
        "  df[i] = le.fit_transform(df[i])\n",
        "  print(df[i].unique())"
      ],
      "metadata": {
        "colab": {
          "base_uri": "https://localhost:8080/"
        },
        "id": "yvZMbXe3eDQA",
        "outputId": "94a1a3b4-a83b-4dc9-82ae-ea5dbc1c578a"
      },
      "execution_count": 25,
      "outputs": [
        {
          "output_type": "stream",
          "name": "stdout",
          "text": [
            "country\n",
            "[ 28  25  30  32  38  78  27  77 113  79  26  39  40  84  80 107  89]\n",
            "[ 3  0  4  5  6 10  2  9 16 11  1  7  8 13 12 15 14]\n",
            "status\n",
            "['Won' 'Draft' 'To be approved' 'Lost' 'Not lost for AM' 'Wonderful'\n",
            " 'Revised' 'Offered' 'Offerable']\n",
            "[7 0 6 1 2 8 5 4 3]\n",
            "customer\n",
            "[30156308. 30202938. 30153963. ... 30349515. 30284694. 30161559.]\n",
            "[ 51 288  39 ... 953 687  97]\n",
            "item type\n",
            "['W' 'WI' 'S' 'Others' 'PL' 'IPL' 'SLAWR']\n",
            "[5 6 3 1 2 0 4]\n",
            "application\n",
            "[10 41 28 59 15  4 38 56 42 26 27 19 20 66 29 22 40 25 67 79  3 99  2  5\n",
            " 39 69 70 65 58 68]\n",
            "[ 4 17 12 21  5  2 14 19 18 10 11  6  7 23 13  8 16  9 24 28  1 29  0  3\n",
            " 15 26 27 22 20 25]\n",
            "material_ref\n",
            "['DEQ1 S460MC' 'DX51D+Z' 'S0380700' ... 'MAS65550' '4.11043_1060X5_BRE'\n",
            " '202006170005.IO.1.1']\n",
            "[5377 5484 9681 ... 8061 2179 1589]\n",
            "product_ref\n",
            "[1670798778 1668701718     628377     640665     611993 1668701376\n",
            "  164141591 1671863738 1332077137     640405 1693867550 1665572374\n",
            " 1282007633 1668701698     628117 1690738206     628112     640400\n",
            " 1671876026  164336407  164337175 1668701725 1665572032     611728\n",
            " 1721130331 1693867563     611733 1690738219 1722207579  929423819\n",
            " 1665584320 1665584662 1665584642]\n",
            "[24 22  5  8  2 20  9 25 14  7 29 16 13 21  4 27  3  6 26 10 11 23 15  0\n",
            " 31 30  1 28 32 12 17 19 18]\n"
          ]
        }
      ]
    },
    {
      "cell_type": "markdown",
      "source": [
        "## **Feature Engineering**"
      ],
      "metadata": {
        "id": "kWFX9iuT23A2"
      }
    },
    {
      "cell_type": "markdown",
      "source": [
        "## with two date columns order date and delivery date, I'm making a new feature number of days for delivery period."
      ],
      "metadata": {
        "id": "F2kLcVpA28fL"
      }
    },
    {
      "cell_type": "code",
      "source": [
        "#ckecking irreleavant date and correcting\n",
        "#a=df['item_date'].astype(int).unique()\n",
        "#a.sort()\n",
        "#a"
      ],
      "metadata": {
        "id": "YXtTdB-Rs9ut"
      },
      "execution_count": 26,
      "outputs": []
    },
    {
      "cell_type": "code",
      "source": [
        "#a=df['delivery date'].astype(int).unique()\n",
        "#a.sort()\n",
        "#a"
      ],
      "metadata": {
        "id": "RK2AZjeqtIUR"
      },
      "execution_count": 27,
      "outputs": []
    },
    {
      "cell_type": "code",
      "source": [
        "df['delivery_period']=(df['item_date']-df['delivery date']).abs().dt.days\n",
        "df.head()"
      ],
      "metadata": {
        "id": "UM9S_AJT22Fy",
        "colab": {
          "base_uri": "https://localhost:8080/",
          "height": 0
        },
        "outputId": "b223bbec-5950-4281-ca7f-4529b1d1ba22"
      },
      "execution_count": 28,
      "outputs": [
        {
          "output_type": "execute_result",
          "data": {
            "text/plain": [
              "                                     id  item_date  quantity tons  customer  \\\n",
              "0  EC06F063-9DF0-440C-8764-0B0C05A4F6AE 2021-04-01      54.151139        51   \n",
              "1  4E5F4B3D-DDDF-499D-AFDE-A3227EC49425 2021-04-01     702.793565       288   \n",
              "2  E140FF1B-2407-4C02-A0DD-780A093B1158 2021-04-01     386.127949        39   \n",
              "3  F8D507A0-9C62-4EFE-831E-33E1DA53BB50 2021-04-01     202.411065       955   \n",
              "4  4E1C4E78-152B-430A-8094-ADD889C9D0AD 2021-04-01     702.793565       397   \n",
              "\n",
              "   country  status  item type  application  thickness   width  material_ref  \\\n",
              "0        3       7          5            4        2.0  1500.0          5377   \n",
              "1        0       7          5           17        0.8  1210.0          5484   \n",
              "2        4       7          6           12        0.4   952.0          9681   \n",
              "3        5       7          3           21        2.3  1317.0          5651   \n",
              "4        3       7          5            4        4.0  2000.0          1908   \n",
              "\n",
              "   product_ref delivery date  selling_price  delivery_period  \n",
              "0           24    2021-07-01         854.00               91  \n",
              "1           22    2021-04-01        1047.00                0  \n",
              "2            5    2021-01-01         644.33               90  \n",
              "3           22    2021-01-01         768.00               90  \n",
              "4            8    2021-03-01         577.00               31  "
            ],
            "text/html": [
              "\n",
              "  <div id=\"df-34b268e0-f747-4c61-a0ee-04fadfc989aa\">\n",
              "    <div class=\"colab-df-container\">\n",
              "      <div>\n",
              "<style scoped>\n",
              "    .dataframe tbody tr th:only-of-type {\n",
              "        vertical-align: middle;\n",
              "    }\n",
              "\n",
              "    .dataframe tbody tr th {\n",
              "        vertical-align: top;\n",
              "    }\n",
              "\n",
              "    .dataframe thead th {\n",
              "        text-align: right;\n",
              "    }\n",
              "</style>\n",
              "<table border=\"1\" class=\"dataframe\">\n",
              "  <thead>\n",
              "    <tr style=\"text-align: right;\">\n",
              "      <th></th>\n",
              "      <th>id</th>\n",
              "      <th>item_date</th>\n",
              "      <th>quantity tons</th>\n",
              "      <th>customer</th>\n",
              "      <th>country</th>\n",
              "      <th>status</th>\n",
              "      <th>item type</th>\n",
              "      <th>application</th>\n",
              "      <th>thickness</th>\n",
              "      <th>width</th>\n",
              "      <th>material_ref</th>\n",
              "      <th>product_ref</th>\n",
              "      <th>delivery date</th>\n",
              "      <th>selling_price</th>\n",
              "      <th>delivery_period</th>\n",
              "    </tr>\n",
              "  </thead>\n",
              "  <tbody>\n",
              "    <tr>\n",
              "      <th>0</th>\n",
              "      <td>EC06F063-9DF0-440C-8764-0B0C05A4F6AE</td>\n",
              "      <td>2021-04-01</td>\n",
              "      <td>54.151139</td>\n",
              "      <td>51</td>\n",
              "      <td>3</td>\n",
              "      <td>7</td>\n",
              "      <td>5</td>\n",
              "      <td>4</td>\n",
              "      <td>2.0</td>\n",
              "      <td>1500.0</td>\n",
              "      <td>5377</td>\n",
              "      <td>24</td>\n",
              "      <td>2021-07-01</td>\n",
              "      <td>854.00</td>\n",
              "      <td>91</td>\n",
              "    </tr>\n",
              "    <tr>\n",
              "      <th>1</th>\n",
              "      <td>4E5F4B3D-DDDF-499D-AFDE-A3227EC49425</td>\n",
              "      <td>2021-04-01</td>\n",
              "      <td>702.793565</td>\n",
              "      <td>288</td>\n",
              "      <td>0</td>\n",
              "      <td>7</td>\n",
              "      <td>5</td>\n",
              "      <td>17</td>\n",
              "      <td>0.8</td>\n",
              "      <td>1210.0</td>\n",
              "      <td>5484</td>\n",
              "      <td>22</td>\n",
              "      <td>2021-04-01</td>\n",
              "      <td>1047.00</td>\n",
              "      <td>0</td>\n",
              "    </tr>\n",
              "    <tr>\n",
              "      <th>2</th>\n",
              "      <td>E140FF1B-2407-4C02-A0DD-780A093B1158</td>\n",
              "      <td>2021-04-01</td>\n",
              "      <td>386.127949</td>\n",
              "      <td>39</td>\n",
              "      <td>4</td>\n",
              "      <td>7</td>\n",
              "      <td>6</td>\n",
              "      <td>12</td>\n",
              "      <td>0.4</td>\n",
              "      <td>952.0</td>\n",
              "      <td>9681</td>\n",
              "      <td>5</td>\n",
              "      <td>2021-01-01</td>\n",
              "      <td>644.33</td>\n",
              "      <td>90</td>\n",
              "    </tr>\n",
              "    <tr>\n",
              "      <th>3</th>\n",
              "      <td>F8D507A0-9C62-4EFE-831E-33E1DA53BB50</td>\n",
              "      <td>2021-04-01</td>\n",
              "      <td>202.411065</td>\n",
              "      <td>955</td>\n",
              "      <td>5</td>\n",
              "      <td>7</td>\n",
              "      <td>3</td>\n",
              "      <td>21</td>\n",
              "      <td>2.3</td>\n",
              "      <td>1317.0</td>\n",
              "      <td>5651</td>\n",
              "      <td>22</td>\n",
              "      <td>2021-01-01</td>\n",
              "      <td>768.00</td>\n",
              "      <td>90</td>\n",
              "    </tr>\n",
              "    <tr>\n",
              "      <th>4</th>\n",
              "      <td>4E1C4E78-152B-430A-8094-ADD889C9D0AD</td>\n",
              "      <td>2021-04-01</td>\n",
              "      <td>702.793565</td>\n",
              "      <td>397</td>\n",
              "      <td>3</td>\n",
              "      <td>7</td>\n",
              "      <td>5</td>\n",
              "      <td>4</td>\n",
              "      <td>4.0</td>\n",
              "      <td>2000.0</td>\n",
              "      <td>1908</td>\n",
              "      <td>8</td>\n",
              "      <td>2021-03-01</td>\n",
              "      <td>577.00</td>\n",
              "      <td>31</td>\n",
              "    </tr>\n",
              "  </tbody>\n",
              "</table>\n",
              "</div>\n",
              "      <button class=\"colab-df-convert\" onclick=\"convertToInteractive('df-34b268e0-f747-4c61-a0ee-04fadfc989aa')\"\n",
              "              title=\"Convert this dataframe to an interactive table.\"\n",
              "              style=\"display:none;\">\n",
              "        \n",
              "  <svg xmlns=\"http://www.w3.org/2000/svg\" height=\"24px\"viewBox=\"0 0 24 24\"\n",
              "       width=\"24px\">\n",
              "    <path d=\"M0 0h24v24H0V0z\" fill=\"none\"/>\n",
              "    <path d=\"M18.56 5.44l.94 2.06.94-2.06 2.06-.94-2.06-.94-.94-2.06-.94 2.06-2.06.94zm-11 1L8.5 8.5l.94-2.06 2.06-.94-2.06-.94L8.5 2.5l-.94 2.06-2.06.94zm10 10l.94 2.06.94-2.06 2.06-.94-2.06-.94-.94-2.06-.94 2.06-2.06.94z\"/><path d=\"M17.41 7.96l-1.37-1.37c-.4-.4-.92-.59-1.43-.59-.52 0-1.04.2-1.43.59L10.3 9.45l-7.72 7.72c-.78.78-.78 2.05 0 2.83L4 21.41c.39.39.9.59 1.41.59.51 0 1.02-.2 1.41-.59l7.78-7.78 2.81-2.81c.8-.78.8-2.07 0-2.86zM5.41 20L4 18.59l7.72-7.72 1.47 1.35L5.41 20z\"/>\n",
              "  </svg>\n",
              "      </button>\n",
              "      \n",
              "  <style>\n",
              "    .colab-df-container {\n",
              "      display:flex;\n",
              "      flex-wrap:wrap;\n",
              "      gap: 12px;\n",
              "    }\n",
              "\n",
              "    .colab-df-convert {\n",
              "      background-color: #E8F0FE;\n",
              "      border: none;\n",
              "      border-radius: 50%;\n",
              "      cursor: pointer;\n",
              "      display: none;\n",
              "      fill: #1967D2;\n",
              "      height: 32px;\n",
              "      padding: 0 0 0 0;\n",
              "      width: 32px;\n",
              "    }\n",
              "\n",
              "    .colab-df-convert:hover {\n",
              "      background-color: #E2EBFA;\n",
              "      box-shadow: 0px 1px 2px rgba(60, 64, 67, 0.3), 0px 1px 3px 1px rgba(60, 64, 67, 0.15);\n",
              "      fill: #174EA6;\n",
              "    }\n",
              "\n",
              "    [theme=dark] .colab-df-convert {\n",
              "      background-color: #3B4455;\n",
              "      fill: #D2E3FC;\n",
              "    }\n",
              "\n",
              "    [theme=dark] .colab-df-convert:hover {\n",
              "      background-color: #434B5C;\n",
              "      box-shadow: 0px 1px 3px 1px rgba(0, 0, 0, 0.15);\n",
              "      filter: drop-shadow(0px 1px 2px rgba(0, 0, 0, 0.3));\n",
              "      fill: #FFFFFF;\n",
              "    }\n",
              "  </style>\n",
              "\n",
              "      <script>\n",
              "        const buttonEl =\n",
              "          document.querySelector('#df-34b268e0-f747-4c61-a0ee-04fadfc989aa button.colab-df-convert');\n",
              "        buttonEl.style.display =\n",
              "          google.colab.kernel.accessAllowed ? 'block' : 'none';\n",
              "\n",
              "        async function convertToInteractive(key) {\n",
              "          const element = document.querySelector('#df-34b268e0-f747-4c61-a0ee-04fadfc989aa');\n",
              "          const dataTable =\n",
              "            await google.colab.kernel.invokeFunction('convertToInteractive',\n",
              "                                                     [key], {});\n",
              "          if (!dataTable) return;\n",
              "\n",
              "          const docLinkHtml = 'Like what you see? Visit the ' +\n",
              "            '<a target=\"_blank\" href=https://colab.research.google.com/notebooks/data_table.ipynb>data table notebook</a>'\n",
              "            + ' to learn more about interactive tables.';\n",
              "          element.innerHTML = '';\n",
              "          dataTable['output_type'] = 'display_data';\n",
              "          await google.colab.output.renderOutput(dataTable, element);\n",
              "          const docLink = document.createElement('div');\n",
              "          docLink.innerHTML = docLinkHtml;\n",
              "          element.appendChild(docLink);\n",
              "        }\n",
              "      </script>\n",
              "    </div>\n",
              "  </div>\n",
              "  "
            ]
          },
          "metadata": {},
          "execution_count": 28
        }
      ]
    },
    {
      "cell_type": "code",
      "source": [
        "#thickness * width\n",
        "#df['volume']=df['thickness']*df['width']"
      ],
      "metadata": {
        "id": "U45LqNnm4gzL"
      },
      "execution_count": 29,
      "outputs": []
    },
    {
      "cell_type": "markdown",
      "source": [
        "# **Checking accuracy with ML MODEls**"
      ],
      "metadata": {
        "id": "hDgx0Inkt3vy"
      }
    },
    {
      "cell_type": "markdown",
      "source": [
        "## Regression Model"
      ],
      "metadata": {
        "id": "Rq9FSoiLPG6b"
      }
    },
    {
      "cell_type": "markdown",
      "source": [
        "Checking for best accuracy models for selling price prediction."
      ],
      "metadata": {
        "id": "UIGmdQKMuEP-"
      }
    },
    {
      "cell_type": "code",
      "source": [
        "#understanding correlation with feautures and target\n",
        "plt.figure()\n",
        "sns.heatmap(df.iloc[:,2: ].corr())\n",
        "plt.show()"
      ],
      "metadata": {
        "id": "XTMf4DgxsTx6",
        "colab": {
          "base_uri": "https://localhost:8080/",
          "height": 0
        },
        "outputId": "1e7e4817-e539-4163-dc89-3f8f8128cb8d"
      },
      "execution_count": 30,
      "outputs": [
        {
          "output_type": "stream",
          "name": "stderr",
          "text": [
            "<ipython-input-30-5606ef6584f0>:3: FutureWarning: The default value of numeric_only in DataFrame.corr is deprecated. In a future version, it will default to False. Select only valid columns or specify the value of numeric_only to silence this warning.\n",
            "  sns.heatmap(df.iloc[:,2: ].corr())\n"
          ]
        },
        {
          "output_type": "display_data",
          "data": {
            "text/plain": [
              "<Figure size 640x480 with 2 Axes>"
            ],
            "image/png": "[encoded data removed]"
          },
          "metadata": {}
        }
      ]
    },
    {
      "cell_type": "code",
      "source": [
        "from sklearn.model_selection import train_test_split\n",
        "x=df[['quantity tons','item type','country','application','thickness','width','material_ref', 'product_ref','delivery_period']].values\n",
        "y=df[['selling_price']].values\n",
        "#,'customer'"
      ],
      "metadata": {
        "id": "VHyV1gf82pgZ"
      },
      "execution_count": 31,
      "outputs": []
    },
    {
      "cell_type": "code",
      "source": [
        "# data normalization with sklearn\n",
        "# standard scaler -> StandardScaler() - -1 to 1 or MinMaxScaler() - 0 to 1\n",
        "from sklearn.preprocessing import StandardScaler\n",
        "\n",
        "# fit scaler on training data\n",
        "scaler = StandardScaler().fit(x)\n",
        "\n",
        "# transform training data\n",
        "x = scaler.transform(x)\n",
        "\n",
        "#spliting train and test\n",
        "X_train, X_test, Y_train, Y_test = train_test_split(x,y.reshape(-1),test_size=0.3)"
      ],
      "metadata": {
        "id": "f_bm3WGC_DKi"
      },
      "execution_count": 32,
      "outputs": []
    },
    {
      "cell_type": "code",
      "source": [
        "from sklearn.linear_model import LinearRegression\n",
        "from sklearn.linear_model import ElasticNet\n",
        "from sklearn.linear_model import LassoLars\n",
        "from sklearn.metrics import mean_squared_error, mean_absolute_error, r2_score"
      ],
      "metadata": {
        "id": "_K2SwtgIF4g7"
      },
      "execution_count": 33,
      "outputs": []
    },
    {
      "cell_type": "code",
      "source": [
        "lis=[LinearRegression(),ElasticNet(),LassoLars()]\n",
        "models=['LinearRegression','ElasticNet','LassoLars']\n",
        "score=[]\n",
        "for i in lis:\n",
        "  i.fit(X_train, Y_train)\n",
        "  Y_pred=i.predict(X_test)\n",
        "  score.append( r2_score(Y_test, Y_pred))"
      ],
      "metadata": {
        "id": "ED0r5SLZF4Ev"
      },
      "execution_count": 34,
      "outputs": []
    },
    {
      "cell_type": "code",
      "source": [
        "from sklearn.model_selection import GridSearchCV\n",
        "from sklearn import neighbors\n",
        "params = {'n_neighbors':[2,3,4,5,6,7,8,9]}\n",
        "\n",
        "knn = neighbors.KNeighborsRegressor()\n",
        "\n",
        "model = GridSearchCV(knn, params, cv=5)\n",
        "model.fit(X_train,Y_train)\n",
        "model.best_params_"
      ],
      "metadata": {
        "id": "b4vrE8phjAxY"
      },
      "execution_count": null,
      "outputs": []
    },
    {
      "cell_type": "code",
      "source": [
        "#KNN\n",
        "from sklearn import neighbors\n",
        "model = neighbors.KNeighborsRegressor(n_neighbors = 5)\n",
        "\n",
        "model.fit(X_train, Y_train)  #fit the model\n",
        "Y_pred=model.predict(X_test)\n",
        "\n",
        "print('Mean squared error: ', mean_squared_error(Y_test, Y_pred))\n",
        "print('Mean absolute error: ', mean_absolute_error(Y_test, Y_pred))\n",
        "print('R2 Score: ', r2_score(Y_test, Y_pred))\n",
        "models.append('KNeighborsRegressor')\n",
        "score.append(r2_score(Y_test, Y_pred))"
      ],
      "metadata": {
        "id": "gCzf3efYcJV8"
      },
      "execution_count": null,
      "outputs": []
    },
    {
      "cell_type": "code",
      "source": [
        "#DecisionTreeRegressor\n",
        "from sklearn.tree import DecisionTreeRegressor\n",
        "model = DecisionTreeRegressor(random_state=53)\n",
        "model.fit(X_train, Y_train)\n",
        "Y_pred=model.predict(X_test)\n",
        "importances=model.feature_importances_\n",
        "\n",
        "for i,v in zip(['quantity tons','customer','item type','country','application','thickness','width','material_ref', 'product_ref','delivery_period'], importances):\n",
        "  print('Feature:'',Score: ',(i,v))\n",
        "from sklearn.metrics import mean_squared_error, mean_absolute_error, r2_score\n",
        "\n",
        "print('Mean squared error: ', mean_squared_error(Y_test, Y_pred))\n",
        "print('Mean absolute error: ', mean_absolute_error(Y_test, Y_pred))\n",
        "print('R2 Score: ', r2_score(Y_test, Y_pred))\n",
        "models.append('DecisionTreeRegressor')\n",
        "score.append(r2_score(Y_test, Y_pred))"
      ],
      "metadata": {
        "id": "50kSxR21YmbE"
      },
      "execution_count": null,
      "outputs": []
    },
    {
      "cell_type": "code",
      "source": [
        "#ExtraTreesRegressor\n",
        "from sklearn.ensemble import ExtraTreesRegressor\n",
        "model = ExtraTreesRegressor(n_estimators=100, criterion='friedman_mse', max_depth=None, min_samples_split=2, \n",
        "                            min_samples_leaf=1, min_weight_fraction_leaf=0.0, max_features=10, max_leaf_nodes=None, \n",
        "                            min_impurity_decrease=0.0, bootstrap=False, oob_score=False, n_jobs=4, random_state=53, \n",
        "                            verbose=0, warm_start=False, ccp_alpha=0.0, max_samples=None).fit(X_train, Y_train)\n",
        "Y_pred=model.predict(X_test)\n",
        "from sklearn.metrics import mean_squared_error, mean_absolute_error, r2_score\n",
        "\n",
        "print('Mean squared error: ', mean_squared_error(Y_test, Y_pred))\n",
        "print('Mean absolute error: ', mean_absolute_error(Y_test, Y_pred))\n",
        "print('R2 Score: ', r2_score(Y_test, Y_pred))\n",
        "models.append('ExtraTreesRegressor')\n",
        "score.append(r2_score(Y_test, Y_pred))"
      ],
      "metadata": {
        "id": "bCC0oceqdeNd"
      },
      "execution_count": null,
      "outputs": []
    },
    {
      "cell_type": "code",
      "source": [
        "models"
      ],
      "metadata": {
        "id": "nXd__t58XqSs"
      },
      "execution_count": null,
      "outputs": []
    },
    {
      "cell_type": "code",
      "source": [
        "score"
      ],
      "metadata": {
        "id": "JCtkOSpPXu9C"
      },
      "execution_count": null,
      "outputs": []
    },
    {
      "cell_type": "code",
      "source": [
        "plt.barh(models, score,\n",
        "        height = 0.1, color = \"hotpink\")\n",
        " \n",
        "plt.xlabel(\"Score\")\n",
        "plt.ylabel(\"Models\")\n",
        "plt.title(\"checking accuracy on models\")\n",
        "plt.show()"
      ],
      "metadata": {
        "id": "r85BEq-lI94U"
      },
      "execution_count": null,
      "outputs": []
    },
    {
      "cell_type": "code",
      "source": [],
      "metadata": {
        "id": "HUr5iX_tO3Bi"
      },
      "execution_count": null,
      "outputs": []
    },
    {
      "cell_type": "markdown",
      "source": [
        "## Classification Model"
      ],
      "metadata": {
        "id": "OWxrWdTeO3uK"
      }
    },
    {
      "cell_type": "markdown",
      "source": [
        "as per problem statement filtering data points other than WON & LOST STATUS values, since STATUS variable with WON being considered as Success and LOST being considered as Failure."
      ],
      "metadata": {
        "id": "Vbm9m_2bX-UN"
      }
    },
    {
      "cell_type": "code",
      "source": [
        "won_lost=df.loc[df[\"status\"].isin([7,1])]\n",
        "won_lost.head()"
      ],
      "metadata": {
        "id": "yxtTcyGYim_4"
      },
      "execution_count": null,
      "outputs": []
    },
    {
      "cell_type": "code",
      "source": [
        "print(won_lost['status'].unique())\n",
        "won_lost['status'] = le.fit_transform(won_lost['status'])\n",
        "print(won_lost['status'].unique())"
      ],
      "metadata": {
        "id": "gazvQ3SVPmpH"
      },
      "execution_count": null,
      "outputs": []
    },
    {
      "cell_type": "code",
      "source": [
        "#understanding correlation with feautures and target\n",
        "plt.figure()\n",
        "sns.heatmap(df.iloc[:,2: ].corr())\n",
        "plt.show()"
      ],
      "metadata": {
        "id": "13f_QvPbyqZr"
      },
      "execution_count": null,
      "outputs": []
    },
    {
      "cell_type": "code",
      "source": [
        "from sklearn.model_selection import train_test_split\n",
        "x=won_lost[['quantity tons','item type','country','application','thickness','width','material_ref', 'product_ref','selling_price','delivery_period']].values\n",
        "y=won_lost[['status']].values\n",
        "#,'customer'"
      ],
      "metadata": {
        "id": "uWqaoEtvRD1H"
      },
      "execution_count": null,
      "outputs": []
    },
    {
      "cell_type": "code",
      "source": [
        "# data normalization with sklearn\n",
        "# standard scaler -> StandardScaler() - -1 to 1 or MinMaxScaler() - 0 to 1\n",
        "from sklearn.preprocessing import StandardScaler\n",
        "\n",
        "# fit scaler on training data\n",
        "scaler = StandardScaler().fit(x)\n",
        "\n",
        "# transform training data\n",
        "x = scaler.transform(x)\n",
        "\n",
        "#spliting train and test\n",
        "X_train, X_test, Y_train, Y_test = train_test_split(x,y.reshape(-1),test_size=0.3)"
      ],
      "metadata": {
        "id": "YMppwqmORNmm"
      },
      "execution_count": null,
      "outputs": []
    },
    {
      "cell_type": "code",
      "source": [
        "C_Models=[]\n",
        "Accuracy=[]"
      ],
      "metadata": {
        "id": "0_7xp7Nj1kl4"
      },
      "execution_count": null,
      "outputs": []
    },
    {
      "cell_type": "code",
      "source": [
        "from sklearn.tree import DecisionTreeClassifier\n",
        "from sklearn.neighbors import KNeighborsClassifier\n",
        "from sklearn.linear_model import LogisticRegression\n",
        "from sklearn.naive_bayes import GaussianNB\n",
        "from sklearn.ensemble import AdaBoostClassifier\n",
        "from sklearn.ensemble import RandomForestClassifier\n",
        "from sklearn.metrics  import accuracy_score"
      ],
      "metadata": {
        "id": "haG1JnWHRocW"
      },
      "execution_count": null,
      "outputs": []
    },
    {
      "cell_type": "code",
      "source": [
        "#LogisticRegression model\n",
        "model = LogisticRegression()\n",
        "model.fit(X_train, Y_train)\n",
        "\n",
        "# Test the LogisticRegression model\n",
        "Y_pred = model.predict(X_test)\n",
        "\n",
        "# Evaluate the performance of the model\n",
        "accu=accuracy_score(Y_test, Y_pred)\n",
        "C_Models.append('LogisticRegression')\n",
        "Accuracy.append(accu)\n",
        "accu"
      ],
      "metadata": {
        "id": "tcPOElq9MSKF"
      },
      "execution_count": null,
      "outputs": []
    },
    {
      "cell_type": "code",
      "source": [
        "from sklearn.model_selection import GridSearchCV\n",
        "from sklearn import neighbors\n",
        "params = {'n_neighbors':[2,3,4,5,6,7,8,9]}\n",
        "\n",
        "knn = neighbors.KNeighborsRegressor()\n",
        "\n",
        "model = GridSearchCV(knn, params, cv=5)\n",
        "model.fit(X_train,Y_train)\n",
        "model.best_params_"
      ],
      "metadata": {
        "id": "3MGfiVSCvz2m"
      },
      "execution_count": null,
      "outputs": []
    },
    {
      "cell_type": "code",
      "source": [
        "#KNeighborsClassifier model\n",
        "model = KNeighborsClassifier(n_neighbors=3)\n",
        "model.fit(X_train, Y_train)\n",
        "\n",
        "# Test the KNeighborsClassifier model\n",
        "Y_pred = model.predict(X_test)\n",
        "\n",
        "# Evaluate the performance of the model\n",
        "accu=accuracy_score(Y_test, Y_pred)\n",
        "C_Models.append('KNeighborsClassifier')\n",
        "Accuracy.append(accu)\n",
        "accu"
      ],
      "metadata": {
        "id": "C8s1yn6_MSGQ"
      },
      "execution_count": null,
      "outputs": []
    },
    {
      "cell_type": "code",
      "source": [
        "#AdaBoostClassifier model\n",
        "model = AdaBoostClassifier(n_estimators=100)\n",
        "model.fit(X_train, Y_train)\n",
        "\n",
        "# Test the AdaBoostClassifier model\n",
        "Y_pred = model.predict(X_test)\n",
        "\n",
        "# Evaluate the performance of the model\n",
        "accu=accuracy_score(Y_test, Y_pred)\n",
        "C_Models.append('AdaBoostClassifier')\n",
        "Accuracy.append(accu)\n",
        "accu"
      ],
      "metadata": {
        "id": "CJ5Fipl51AKQ"
      },
      "execution_count": null,
      "outputs": []
    },
    {
      "cell_type": "code",
      "source": [
        "#Decision Tree model\n",
        "model = DecisionTreeClassifier(max_depth=18)\n",
        "model.fit(X_train, Y_train)\n",
        "\n",
        "# Test the Decision Tree model\n",
        "Y_pred = model.predict(X_test)\n",
        "\n",
        "# Evaluate the performance of the model\n",
        "accu=accuracy_score(Y_test, Y_pred)\n",
        "C_Models.append('Decision Tree')\n",
        "Accuracy.append(accu)\n",
        "accu"
      ],
      "metadata": {
        "id": "hazq_89LRxix"
      },
      "execution_count": null,
      "outputs": []
    },
    {
      "cell_type": "code",
      "source": [
        "#naive_bayes model\n",
        "model = GaussianNB()\n",
        "model.fit(X_train, Y_train)\n",
        "\n",
        "# Test the naive_bayes model\n",
        "Y_pred = model.predict(X_test)\n",
        "\n",
        "# Evaluate the performance of the model\n",
        "accu=accuracy_score(Y_test, Y_pred)\n",
        "C_Models.append('GaussianNB')\n",
        "Accuracy.append(accu)\n",
        "accu"
      ],
      "metadata": {
        "id": "X43w5ByWqRKR"
      },
      "execution_count": null,
      "outputs": []
    },
    {
      "cell_type": "code",
      "source": [
        "import pickle"
      ],
      "metadata": {
        "id": "BcMoX2igTZ0f"
      },
      "execution_count": null,
      "outputs": []
    },
    {
      "cell_type": "code",
      "source": [
        "filename = 'finalized_model.sav'"
      ],
      "metadata": {
        "id": "djaaORz1TcDE"
      },
      "execution_count": null,
      "outputs": []
    },
    {
      "cell_type": "code",
      "source": [
        "pickle.dump(model, open(filename, 'wb'))"
      ],
      "metadata": {
        "id": "pTAHfB77T7P9"
      },
      "execution_count": null,
      "outputs": []
    },
    {
      "cell_type": "code",
      "source": [
        "# load the model from disk\n",
        "loaded_model = pickle.load(open(filename, 'rb'))\n",
        "result = loaded_model.score(X_test, Y_test)\n",
        "print(result)"
      ],
      "metadata": {
        "id": "Sch3xYMeUcNJ"
      },
      "execution_count": null,
      "outputs": []
    },
    {
      "cell_type": "code",
      "source": [
        "#RandomForestClassifier model\n",
        "model = RandomForestClassifier(n_estimators=10)\n",
        "model.fit(X_train, Y_train)\n",
        "\n",
        "# Test the RandomForestClassifier model\n",
        "Y_pred = model.predict(X_test)\n",
        "\n",
        "# Evaluate the performance of the model\n",
        "accu=accuracy_score(Y_test, Y_pred)\n",
        "C_Models.append('RandomForestClassifier')\n",
        "Accuracy.append(accu)\n",
        "accu"
      ],
      "metadata": {
        "id": "3Qn8XuRKqbzL"
      },
      "execution_count": null,
      "outputs": []
    },
    {
      "cell_type": "code",
      "source": [
        "C_Models"
      ],
      "metadata": {
        "id": "bNkXugVf3UhF"
      },
      "execution_count": null,
      "outputs": []
    },
    {
      "cell_type": "code",
      "source": [
        "Accuracy"
      ],
      "metadata": {
        "id": "9HfbKQeC3XX1"
      },
      "execution_count": null,
      "outputs": []
    },
    {
      "cell_type": "code",
      "source": [
        "plt.barh(C_Models, Accuracy,\n",
        "        height = 0.1, color = \"green\")\n",
        " \n",
        "plt.xlabel(\"Accuracy\")\n",
        "plt.ylabel(\"C_Models\")\n",
        "plt.title(\"checking accuracy on models\")\n",
        "plt.show()"
      ],
      "metadata": {
        "id": "2KK0X8L_2XpO"
      },
      "execution_count": null,
      "outputs": []
    },
    {
      "cell_type": "markdown",
      "source": [
        "# **Streamlit**"
      ],
      "metadata": {
        "id": "q5YKrIiHDHPV"
      }
    },
    {
      "cell_type": "code",
      "source": [
        "%%writefile app.py\n",
        "import streamlit as st\n",
        "\n",
        "st.title(':blue[_Copper_]')\n",
        "st.caption('Industrial Copper Modeling')\n",
        "tab1, tab2, tab3 = st.tabs([\"Price_Prediction\", \"Order Status\" \"About\"])\n",
        "\n",
        "with tab1:\n",
        "  st.subheader(':blue[_Selling_Price_Finder_]')\n",
        "  st.subheader(':blue[_Enter the Details_]')\n",
        "\n",
        "\n",
        "with tab1:\n",
        "  st.subheader(':blue[_Order_Status_Finder_]')\n",
        "  st.subheader(':blue[_Enter the Details_]')\n",
        "  with st.form(\"Details\"):\n",
        "    company_name = st.text_input('Company Name:', value=cmp)\n",
        "    card_holder_name = st.text_input('Card Holder Name:', value=nam)\n",
        "    designation = st.text_input('Designation:', value=des)\n",
        "    mobile_number = st.text_input('Mobile Number:', value=mob)\n",
        "    email_address = st.text_input('Email Address:', value=email)\n",
        "    website = st.text_input('Website:', value=url)\n",
        "    area = st.text_input('Area:', value=area_v)\n",
        "    city = st.text_input('City:', value=city_v)\n",
        "    state = st.text_input('State:', value=state_v)\n",
        "    pincode = st.text_input('Pincode:', value=pin)\n",
        "    submit_button = st.form_submit_button(label=\"Show Price\")        \n",
        "#if submit_button:\n",
        "\n",
        "with tab2:\n",
        "  st.subheader(':blue[_How to use:_]')\n",
        "  st.write('1. upload the image from local storage')\n",
        "  st.write('2. check the details and do corrections if needed')\n",
        "  st.write('3. finally upload to database by clicking save button')\n",
        "  st.subheader(':blue[_Packages used:_]')\n",
        "  st.write('easyocr, streamlit, cv2, regex, sqlalchemy, pymysql')\n",
        "  st.subheader(':blue[_Demo video:_]')\n",
        "  st.write('')\n",
        "  st.subheader(':blue[_GitHub link:_]')\n",
        "  st.write('https://github.com/kalinharikumar/BizCardX.git')"
      ],
      "metadata": {
        "id": "jXo0mzwFDL5W",
        "colab": {
          "base_uri": "https://localhost:8080/"
        },
        "outputId": "9c69e502-8190-487e-da9e-cad0dc4ed3a3"
      },
      "execution_count": 3,
      "outputs": [
        {
          "output_type": "stream",
          "name": "stdout",
          "text": [
            "Writing app.py\n"
          ]
        }
      ]
    },
    {
      "cell_type": "code",
      "source": [
        "!npm install localtunnel\n",
        "!pip install streamlit"
      ],
      "metadata": {
        "id": "yoX3XuXCDLtY"
      },
      "execution_count": null,
      "outputs": []
    },
    {
      "cell_type": "code",
      "source": [
        "!streamlit run app.py &>/content/logs.txt & npx localtunnel --port 8501 & curl ipv4.icanhazip.com"
      ],
      "metadata": {
        "colab": {
          "base_uri": "https://localhost:8080/"
        },
        "id": "AuHaPHLhlB31",
        "outputId": "b45def48-deb7-4b80-d0be-219e0ef3ad6d"
      },
      "execution_count": 11,
      "outputs": [
        {
          "output_type": "stream",
          "name": "stdout",
          "text": [
            "35.238.117.143\n",
            "\u001b[K\u001b[?25hnpx: installed 22 in 2.836s\n",
            "your url is: https://honest-ghosts-find.loca.lt\n"
          ]
        }
      ]
    }
  ]
}